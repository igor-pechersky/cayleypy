{
 "cells": [
  {
   "cell_type": "code",
   "execution_count": 1,
   "id": "5664f61e",
   "metadata": {
    "_cell_guid": "b1076dfc-b9ad-4769-8c92-a6c4dae69d19",
    "_uuid": "8f2839f25d086af736a60e9eeb907d3b93b6e0e5",
    "execution": {
     "iopub.execute_input": "2025-07-11T02:00:45.579455Z",
     "iopub.status.busy": "2025-07-11T02:00:45.579160Z",
     "iopub.status.idle": "2025-07-11T02:00:55.765111Z",
     "shell.execute_reply": "2025-07-11T02:00:55.764119Z"
    },
    "papermill": {
     "duration": 10.190485,
     "end_time": "2025-07-11T02:00:55.766706",
     "exception": false,
     "start_time": "2025-07-11T02:00:45.576221",
     "status": "completed"
    },
    "tags": []
   },
   "outputs": [
    {
     "name": "stdout",
     "output_type": "stream",
     "text": [
      "Collecting git+https://github.com/cayleypy/cayleypy\r\n",
      "  Cloning https://github.com/cayleypy/cayleypy to /tmp/pip-req-build-o3sny8re\r\n",
      "  Running command git clone --filter=blob:none --quiet https://github.com/cayleypy/cayleypy /tmp/pip-req-build-o3sny8re\r\n",
      "  Resolved https://github.com/cayleypy/cayleypy to commit 750b5bcfcbbcf9c7892f1d3d7bf6aef0085d7f0e\r\n",
      "  Installing build dependencies ... \u001b[?25l\u001b[?25hdone\r\n",
      "  Getting requirements to build wheel ... \u001b[?25l\u001b[?25hdone\r\n",
      "  Preparing metadata (pyproject.toml) ... \u001b[?25l\u001b[?25hdone\r\n",
      "Requirement already satisfied: h5py in /usr/local/lib/python3.11/dist-packages (from cayleypy==0.1.0) (3.14.0)\r\n",
      "Requirement already satisfied: numba in /usr/local/lib/python3.11/dist-packages (from cayleypy==0.1.0) (0.60.0)\r\n",
      "Requirement already satisfied: numpy in /usr/local/lib/python3.11/dist-packages (from cayleypy==0.1.0) (1.26.4)\r\n",
      "Requirement already satisfied: scipy in /usr/local/lib/python3.11/dist-packages (from cayleypy==0.1.0) (1.15.3)\r\n",
      "Requirement already satisfied: mkl_fft in /usr/local/lib/python3.11/dist-packages (from numpy->cayleypy==0.1.0) (1.3.8)\r\n",
      "Requirement already satisfied: mkl_random in /usr/local/lib/python3.11/dist-packages (from numpy->cayleypy==0.1.0) (1.2.4)\r\n",
      "Requirement already satisfied: mkl_umath in /usr/local/lib/python3.11/dist-packages (from numpy->cayleypy==0.1.0) (0.1.1)\r\n",
      "Requirement already satisfied: mkl in /usr/local/lib/python3.11/dist-packages (from numpy->cayleypy==0.1.0) (2025.2.0)\r\n",
      "Requirement already satisfied: tbb4py in /usr/local/lib/python3.11/dist-packages (from numpy->cayleypy==0.1.0) (2022.2.0)\r\n",
      "Requirement already satisfied: mkl-service in /usr/local/lib/python3.11/dist-packages (from numpy->cayleypy==0.1.0) (2.4.1)\r\n",
      "Requirement already satisfied: llvmlite<0.44,>=0.43.0dev0 in /usr/local/lib/python3.11/dist-packages (from numba->cayleypy==0.1.0) (0.43.0)\r\n",
      "Requirement already satisfied: intel-openmp<2026,>=2024 in /usr/local/lib/python3.11/dist-packages (from mkl->numpy->cayleypy==0.1.0) (2024.2.0)\r\n",
      "Requirement already satisfied: tbb==2022.* in /usr/local/lib/python3.11/dist-packages (from mkl->numpy->cayleypy==0.1.0) (2022.2.0)\r\n",
      "Requirement already satisfied: tcmlib==1.* in /usr/local/lib/python3.11/dist-packages (from tbb==2022.*->mkl->numpy->cayleypy==0.1.0) (1.4.0)\r\n",
      "Requirement already satisfied: intel-cmplr-lib-rt in /usr/local/lib/python3.11/dist-packages (from mkl_umath->numpy->cayleypy==0.1.0) (2024.2.0)\r\n",
      "Requirement already satisfied: intel-cmplr-lib-ur==2024.2.0 in /usr/local/lib/python3.11/dist-packages (from intel-openmp<2026,>=2024->mkl->numpy->cayleypy==0.1.0) (2024.2.0)\r\n",
      "Building wheels for collected packages: cayleypy\r\n",
      "  Building wheel for cayleypy (pyproject.toml) ... \u001b[?25l\u001b[?25hdone\r\n",
      "  Created wheel for cayleypy: filename=cayleypy-0.1.0-py3-none-any.whl size=123696 sha256=8e41cb559813521b97692ec54a9e40bc4213a3ea590d27ff4c818cb439030c30\r\n",
      "  Stored in directory: /tmp/pip-ephem-wheel-cache-amqa66_u/wheels/5d/b5/53/86782f2010b218369465580e31a6c289b7f2a73390b39a23f3\r\n",
      "Successfully built cayleypy\r\n",
      "Installing collected packages: cayleypy\r\n",
      "Successfully installed cayleypy-0.1.0\r\n"
     ]
    }
   ],
   "source": [
    "!pip install git+https://github.com/cayleypy/cayleypy"
   ]
  },
  {
   "cell_type": "code",
   "execution_count": 2,
   "id": "310ca6da",
   "metadata": {
    "execution": {
     "iopub.execute_input": "2025-07-11T02:00:55.772105Z",
     "iopub.status.busy": "2025-07-11T02:00:55.771857Z",
     "iopub.status.idle": "2025-07-11T02:01:03.279268Z",
     "shell.execute_reply": "2025-07-11T02:01:03.278648Z"
    },
    "papermill": {
     "duration": 7.511479,
     "end_time": "2025-07-11T02:01:03.280688",
     "exception": false,
     "start_time": "2025-07-11T02:00:55.769209",
     "status": "completed"
    },
    "tags": []
   },
   "outputs": [],
   "source": [
    "from cayleypy import CayleyGraph, CayleyGraphDef, PermutationGroups\n",
    "\n",
    "graph16 = CayleyGraph(PermutationGroups.lrx(16).with_central_state([0]*8+[1]*8))\n",
    "br16=graph16.bfs(return_all_hashes=True)"
   ]
  },
  {
   "cell_type": "code",
   "execution_count": 3,
   "id": "99b4270d",
   "metadata": {
    "execution": {
     "iopub.execute_input": "2025-07-11T02:01:03.285623Z",
     "iopub.status.busy": "2025-07-11T02:01:03.285243Z",
     "iopub.status.idle": "2025-07-11T02:01:07.983213Z",
     "shell.execute_reply": "2025-07-11T02:01:07.982403Z"
    },
    "papermill": {
     "duration": 4.701904,
     "end_time": "2025-07-11T02:01:07.984653",
     "exception": false,
     "start_time": "2025-07-11T02:01:03.282749",
     "status": "completed"
    },
    "tags": []
   },
   "outputs": [],
   "source": [
    "graph32 = CayleyGraph(PermutationGroups.lrx(32).with_central_state([0]*16+[1]*16))\n",
    "br32=graph32.bfs(return_all_hashes=True)"
   ]
  },
  {
   "cell_type": "code",
   "execution_count": 4,
   "id": "6e11a551",
   "metadata": {
    "execution": {
     "iopub.execute_input": "2025-07-11T02:01:07.989248Z",
     "iopub.status.busy": "2025-07-11T02:01:07.989021Z",
     "iopub.status.idle": "2025-07-11T02:03:41.778676Z",
     "shell.execute_reply": "2025-07-11T02:03:41.777805Z"
    },
    "papermill": {
     "duration": 153.79527,
     "end_time": "2025-07-11T02:03:41.781946",
     "exception": false,
     "start_time": "2025-07-11T02:01:07.986676",
     "status": "completed"
    },
    "tags": []
   },
   "outputs": [
    {
     "name": "stdout",
     "output_type": "stream",
     "text": [
      "total_delta= -13005\n",
      "total_score= 2710587\n"
     ]
    }
   ],
   "source": [
    "import pandas as pd\n",
    "import torch\n",
    "\n",
    "data = pd.read_csv(\"/kaggle/input/lrx-binary-in-search-of-gods-number/sample_submission.csv\")\n",
    "\n",
    "ans=[]\n",
    "total_score=0\n",
    "total_delta=0\n",
    "\n",
    "for i, row in data.iterrows():\n",
    "    perm_str = row[\"permutation\"]\n",
    "    start_state = [int(x) for x in perm_str.split(\",\")]\n",
    "    n = len(start_state)\n",
    "    sol0 = row[\"solution\"]\n",
    "\n",
    "    sol = sol0\n",
    "    if n == 16:\n",
    "        path = graph16.find_path_from(start_state, br16)\n",
    "        #assert torch.equal(graph16.apply_path(start_state, path)[0], graph16.central_state)\n",
    "        sol = graph16.definition.path_to_string(path)\n",
    "    if n == 32:\n",
    "        path = graph32.find_path_from(start_state, br32)\n",
    "        sol = graph32.definition.path_to_string(path)\n",
    "    else:\n",
    "        pass\n",
    "\n",
    "    score = len(sol.split(\".\"))\n",
    "    delta = score - len(sol0.split(\".\"))\n",
    "    #print(\"n=\", n, \"score=\", score, \"delta=\", delta)\n",
    "    total_delta+=delta\n",
    "    total_score+=score\n",
    "    ans.append(f'\"{perm_str}\",{sol}')\n",
    "\n",
    "print(\"total_delta=\", total_delta)\n",
    "print(\"total_score=\", total_score)\n",
    "                   "
   ]
  },
  {
   "cell_type": "code",
   "execution_count": 5,
   "id": "d99344c9",
   "metadata": {
    "execution": {
     "iopub.execute_input": "2025-07-11T02:03:41.786664Z",
     "iopub.status.busy": "2025-07-11T02:03:41.786390Z",
     "iopub.status.idle": "2025-07-11T02:03:41.803669Z",
     "shell.execute_reply": "2025-07-11T02:03:41.803133Z"
    },
    "papermill": {
     "duration": 0.020897,
     "end_time": "2025-07-11T02:03:41.804782",
     "exception": false,
     "start_time": "2025-07-11T02:03:41.783885",
     "status": "completed"
    },
    "tags": []
   },
   "outputs": [],
   "source": [
    "with open(\"/kaggle/working/submission.csv\", \"w\") as f:\n",
    "    f.write(\"\\n\".join([\"permutation,solution\"] + ans))"
   ]
  }
 ],
 "metadata": {
  "kaggle": {
   "accelerator": "gpu",
   "dataSources": [
    {
     "databundleVersionId": 11127042,
     "sourceId": 93438,
     "sourceType": "competition"
    }
   ],
   "dockerImageVersionId": 31090,
   "isGpuEnabled": true,
   "isInternetEnabled": true,
   "language": "python",
   "sourceType": "notebook"
  },
  "kernelspec": {
   "display_name": "Python 3",
   "language": "python",
   "name": "python3"
  },
  "language_info": {
   "codemirror_mode": {
    "name": "ipython",
    "version": 3
   },
   "file_extension": ".py",
   "mimetype": "text/x-python",
   "name": "python",
   "nbconvert_exporter": "python",
   "pygments_lexer": "ipython3",
   "version": "3.11.13"
  },
  "papermill": {
   "default_parameters": {},
   "duration": 181.68526,
   "end_time": "2025-07-11T02:03:43.227877",
   "environment_variables": {},
   "exception": null,
   "input_path": "__notebook__.ipynb",
   "output_path": "__notebook__.ipynb",
   "parameters": {},
   "start_time": "2025-07-11T02:00:41.542617",
   "version": "2.6.0"
  }
 },
 "nbformat": 4,
 "nbformat_minor": 5
}
