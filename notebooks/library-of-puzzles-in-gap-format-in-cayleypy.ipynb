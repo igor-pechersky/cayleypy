{
 "cells": [
  {
   "cell_type": "code",
   "execution_count": 1,
   "id": "f18b8932",
   "metadata": {
    "execution": {
     "iopub.execute_input": "2025-07-19T20:57:32.171854Z",
     "iopub.status.busy": "2025-07-19T20:57:32.171652Z",
     "iopub.status.idle": "2025-07-19T20:57:50.556674Z",
     "shell.execute_reply": "2025-07-19T20:57:50.552261Z"
    },
    "papermill": {
     "duration": 18.393951,
     "end_time": "2025-07-19T20:57:50.559795",
     "exception": false,
     "start_time": "2025-07-19T20:57:32.165844",
     "status": "completed"
    },
    "tags": []
   },
   "outputs": [
    {
     "name": "stdout",
     "output_type": "stream",
     "text": [
      "Collecting git+https://github.com/cayleypy/cayleypy\r\n",
      "  Cloning https://github.com/cayleypy/cayleypy to /tmp/pip-req-build-fx5an97a\r\n"
     ]
    },
    {
     "name": "stdout",
     "output_type": "stream",
     "text": [
      "  Running command git clone --filter=blob:none --quiet https://github.com/cayleypy/cayleypy /tmp/pip-req-build-fx5an97a\r\n"
     ]
    },
    {
     "name": "stdout",
     "output_type": "stream",
     "text": [
      "  Resolved https://github.com/cayleypy/cayleypy to commit 41638e501497300c2f17f334d9963d5b5adc2554\r\n"
     ]
    },
    {
     "name": "stdout",
     "output_type": "stream",
     "text": [
      "  Installing build dependencies ... \u001b[?25l-"
     ]
    },
    {
     "name": "stdout",
     "output_type": "stream",
     "text": [
      "\b \b\\"
     ]
    },
    {
     "name": "stdout",
     "output_type": "stream",
     "text": [
      "\b \b|"
     ]
    },
    {
     "name": "stdout",
     "output_type": "stream",
     "text": [
      "\b \b/"
     ]
    },
    {
     "name": "stdout",
     "output_type": "stream",
     "text": [
      "\b \b-"
     ]
    },
    {
     "name": "stdout",
     "output_type": "stream",
     "text": [
      "\b \bdone\r\n"
     ]
    },
    {
     "name": "stdout",
     "output_type": "stream",
     "text": [
      "\u001b[?25h  Getting requirements to build wheel ... \u001b[?25l-"
     ]
    },
    {
     "name": "stdout",
     "output_type": "stream",
     "text": [
      "\b \bdone\r\n"
     ]
    },
    {
     "name": "stdout",
     "output_type": "stream",
     "text": [
      "\u001b[?25h  Preparing metadata (pyproject.toml) ... \u001b[?25l-"
     ]
    },
    {
     "name": "stdout",
     "output_type": "stream",
     "text": [
      "\b \bdone\r\n",
      "\u001b[?25hRequirement already satisfied: h5py in /usr/local/lib/python3.10/site-packages (from cayleypy==0.1.0) (3.14.0)\r\n"
     ]
    },
    {
     "name": "stdout",
     "output_type": "stream",
     "text": [
      "Collecting numba\r\n"
     ]
    },
    {
     "name": "stdout",
     "output_type": "stream",
     "text": [
      "  Downloading numba-0.61.2-cp310-cp310-manylinux2014_x86_64.manylinux_2_17_x86_64.whl (3.8 MB)\r\n",
      "\u001b[?25l     \u001b[90m━━━━━━━━━━━━━━━━━━━━━━━━━━━━━━━━━━━━━━━━\u001b[0m \u001b[32m0.0/3.8 MB\u001b[0m \u001b[31m?\u001b[0m eta \u001b[36m-:--:--\u001b[0m\r",
      "\u001b[2K     \u001b[91m━━━\u001b[0m\u001b[90m╺\u001b[0m\u001b[90m━━━━━━━━━━━━━━━━━━━━━━━━━━━━━━━━━━━━\u001b[0m \u001b[32m0.3/3.8 MB\u001b[0m \u001b[31m9.2 MB/s\u001b[0m eta \u001b[36m0:00:01\u001b[0m"
     ]
    },
    {
     "name": "stdout",
     "output_type": "stream",
     "text": [
      "\r",
      "\u001b[2K     \u001b[91m━━━━━━━━\u001b[0m\u001b[91m╸\u001b[0m\u001b[90m━━━━━━━━━━━━━━━━━━━━━━━━━━━━━━━\u001b[0m \u001b[32m0.9/3.8 MB\u001b[0m \u001b[31m12.7 MB/s\u001b[0m eta \u001b[36m0:00:01\u001b[0m"
     ]
    },
    {
     "name": "stdout",
     "output_type": "stream",
     "text": [
      "\r",
      "\u001b[2K     \u001b[91m━━━━━━━━━━━━━━━━\u001b[0m\u001b[91m╸\u001b[0m\u001b[90m━━━━━━━━━━━━━━━━━━━━━━━\u001b[0m \u001b[32m1.6/3.8 MB\u001b[0m \u001b[31m15.8 MB/s\u001b[0m eta \u001b[36m0:00:01\u001b[0m\r",
      "\u001b[2K     \u001b[91m━━━━━━━━━━━━━━━━━━━━━━━━━━━\u001b[0m\u001b[91m╸\u001b[0m\u001b[90m━━━━━━━━━━━━\u001b[0m \u001b[32m2.7/3.8 MB\u001b[0m \u001b[31m19.4 MB/s\u001b[0m eta \u001b[36m0:00:01\u001b[0m"
     ]
    },
    {
     "name": "stdout",
     "output_type": "stream",
     "text": [
      "\r",
      "\u001b[2K     \u001b[91m━━━━━━━━━━━━━━━━━━━━━━━━━━━━━━━━━━━━━━━\u001b[0m\u001b[91m╸\u001b[0m \u001b[32m3.8/3.8 MB\u001b[0m \u001b[31m23.0 MB/s\u001b[0m eta \u001b[36m0:00:01\u001b[0m"
     ]
    },
    {
     "name": "stdout",
     "output_type": "stream",
     "text": [
      "\r",
      "\u001b[2K     \u001b[90m━━━━━━━━━━━━━━━━━━━━━━━━━━━━━━━━━━━━━━━━\u001b[0m \u001b[32m3.8/3.8 MB\u001b[0m \u001b[31m18.5 MB/s\u001b[0m eta \u001b[36m0:00:00\u001b[0m\r\n",
      "\u001b[?25hRequirement already satisfied: numpy in /usr/local/lib/python3.10/site-packages (from cayleypy==0.1.0) (2.0.2)\r\n",
      "Requirement already satisfied: scipy in /usr/local/lib/python3.10/site-packages (from cayleypy==0.1.0) (1.15.3)\r\n"
     ]
    },
    {
     "name": "stdout",
     "output_type": "stream",
     "text": [
      "Collecting llvmlite<0.45,>=0.44.0dev0\r\n"
     ]
    },
    {
     "name": "stdout",
     "output_type": "stream",
     "text": [
      "  Downloading llvmlite-0.44.0-cp310-cp310-manylinux_2_17_x86_64.manylinux2014_x86_64.whl (42.4 MB)\r\n",
      "\u001b[?25l     \u001b[90m━━━━━━━━━━━━━━━━━━━━━━━━━━━━━━━━━━━━━━━━\u001b[0m \u001b[32m0.0/42.4 MB\u001b[0m \u001b[31m?\u001b[0m eta \u001b[36m-:--:--\u001b[0m\r",
      "\u001b[2K     \u001b[91m━\u001b[0m\u001b[91m╸\u001b[0m\u001b[90m━━━━━━━━━━━━━━━━━━━━━━━━━━━━━━━━━━━━━━\u001b[0m \u001b[32m1.9/42.4 MB\u001b[0m \u001b[31m57.7 MB/s\u001b[0m eta \u001b[36m0:00:01\u001b[0m"
     ]
    },
    {
     "name": "stdout",
     "output_type": "stream",
     "text": [
      "\r",
      "\u001b[2K     \u001b[91m━━━━\u001b[0m\u001b[90m╺\u001b[0m\u001b[90m━━━━━━━━━━━━━━━━━━━━━━━━━━━━━━━━━━━\u001b[0m \u001b[32m4.5/42.4 MB\u001b[0m \u001b[31m67.0 MB/s\u001b[0m eta \u001b[36m0:00:01\u001b[0m"
     ]
    },
    {
     "name": "stdout",
     "output_type": "stream",
     "text": [
      "\r",
      "\u001b[2K     \u001b[91m━━━━━━\u001b[0m\u001b[91m╸\u001b[0m\u001b[90m━━━━━━━━━━━━━━━━━━━━━━━━━━━━━━━━━\u001b[0m \u001b[32m7.3/42.4 MB\u001b[0m \u001b[31m76.3 MB/s\u001b[0m eta \u001b[36m0:00:01\u001b[0m\r",
      "\u001b[2K     \u001b[91m━━━━━━━━\u001b[0m\u001b[91m╸\u001b[0m\u001b[90m━━━━━━━━━━━━━━━━━━━━━━━━━━━━━━━\u001b[0m \u001b[32m9.1/42.4 MB\u001b[0m \u001b[31m65.8 MB/s\u001b[0m eta \u001b[36m0:00:01\u001b[0m"
     ]
    },
    {
     "name": "stdout",
     "output_type": "stream",
     "text": [
      "\r",
      "\u001b[2K     \u001b[91m━━━━━━━━━━━━\u001b[0m\u001b[91m╸\u001b[0m\u001b[90m━━━━━━━━━━━━━━━━━━━━━━━━━━━\u001b[0m \u001b[32m13.6/42.4 MB\u001b[0m \u001b[31m86.5 MB/s\u001b[0m eta \u001b[36m0:00:01\u001b[0m"
     ]
    },
    {
     "name": "stdout",
     "output_type": "stream",
     "text": [
      "\r",
      "\u001b[2K     \u001b[91m━━━━━━━━━━━━━━━━\u001b[0m\u001b[91m╸\u001b[0m\u001b[90m━━━━━━━━━━━━━━━━━━━━━━\u001b[0m \u001b[32m18.2/42.4 MB\u001b[0m \u001b[31m129.1 MB/s\u001b[0m eta \u001b[36m0:00:01\u001b[0m\r",
      "\u001b[2K     \u001b[91m━━━━━━━━━━━━━━━━━━━━\u001b[0m\u001b[91m╸\u001b[0m\u001b[90m━━━━━━━━━━━━━━━━━━\u001b[0m \u001b[32m22.8/42.4 MB\u001b[0m \u001b[31m131.0 MB/s\u001b[0m eta \u001b[36m0:00:01\u001b[0m"
     ]
    },
    {
     "name": "stdout",
     "output_type": "stream",
     "text": [
      "\r",
      "\u001b[2K     \u001b[91m━━━━━━━━━━━━━━━━━━━━━━━━━\u001b[0m\u001b[90m╺\u001b[0m\u001b[90m━━━━━━━━━━━━━\u001b[0m \u001b[32m27.7/42.4 MB\u001b[0m \u001b[31m130.5 MB/s\u001b[0m eta \u001b[36m0:00:01\u001b[0m"
     ]
    },
    {
     "name": "stdout",
     "output_type": "stream",
     "text": [
      "\r",
      "\u001b[2K     \u001b[91m━━━━━━━━━━━━━━━━━━━━━━━━━━━━━━\u001b[0m\u001b[90m╺\u001b[0m\u001b[90m━━━━━━━━\u001b[0m \u001b[32m32.6/42.4 MB\u001b[0m \u001b[31m139.2 MB/s\u001b[0m eta \u001b[36m0:00:01\u001b[0m\r",
      "\u001b[2K     \u001b[91m━━━━━━━━━━━━━━━━━━━━━━━━━━━━━━━━━━\u001b[0m\u001b[90m╺\u001b[0m\u001b[90m━━━━\u001b[0m \u001b[32m37.4/42.4 MB\u001b[0m \u001b[31m139.2 MB/s\u001b[0m eta \u001b[36m0:00:01\u001b[0m"
     ]
    },
    {
     "name": "stdout",
     "output_type": "stream",
     "text": [
      "\r",
      "\u001b[2K     \u001b[91m━━━━━━━━━━━━━━━━━━━━━━━━━━━━━━━━━━━━━━\u001b[0m\u001b[91m╸\u001b[0m \u001b[32m42.4/42.4 MB\u001b[0m \u001b[31m148.9 MB/s\u001b[0m eta \u001b[36m0:00:01\u001b[0m\r",
      "\u001b[2K     \u001b[91m━━━━━━━━━━━━━━━━━━━━━━━━━━━━━━━━━━━━━━\u001b[0m\u001b[91m╸\u001b[0m \u001b[32m42.4/42.4 MB\u001b[0m \u001b[31m148.9 MB/s\u001b[0m eta \u001b[36m0:00:01\u001b[0m"
     ]
    },
    {
     "name": "stdout",
     "output_type": "stream",
     "text": [
      "\r",
      "\u001b[2K     \u001b[91m━━━━━━━━━━━━━━━━━━━━━━━━━━━━━━━━━━━━━━\u001b[0m\u001b[91m╸\u001b[0m \u001b[32m42.4/42.4 MB\u001b[0m \u001b[31m148.9 MB/s\u001b[0m eta \u001b[36m0:00:01\u001b[0m"
     ]
    },
    {
     "name": "stdout",
     "output_type": "stream",
     "text": [
      "\r",
      "\u001b[2K     \u001b[91m━━━━━━━━━━━━━━━━━━━━━━━━━━━━━━━━━━━━━━\u001b[0m\u001b[91m╸\u001b[0m \u001b[32m42.4/42.4 MB\u001b[0m \u001b[31m148.9 MB/s\u001b[0m eta \u001b[36m0:00:01\u001b[0m\r",
      "\u001b[2K     \u001b[91m━━━━━━━━━━━━━━━━━━━━━━━━━━━━━━━━━━━━━━\u001b[0m\u001b[91m╸\u001b[0m \u001b[32m42.4/42.4 MB\u001b[0m \u001b[31m148.9 MB/s\u001b[0m eta \u001b[36m0:00:01\u001b[0m"
     ]
    },
    {
     "name": "stdout",
     "output_type": "stream",
     "text": [
      "\r",
      "\u001b[2K     \u001b[91m━━━━━━━━━━━━━━━━━━━━━━━━━━━━━━━━━━━━━━\u001b[0m\u001b[91m╸\u001b[0m \u001b[32m42.4/42.4 MB\u001b[0m \u001b[31m148.9 MB/s\u001b[0m eta \u001b[36m0:00:01\u001b[0m"
     ]
    },
    {
     "name": "stdout",
     "output_type": "stream",
     "text": [
      "\r",
      "\u001b[2K     \u001b[91m━━━━━━━━━━━━━━━━━━━━━━━━━━━━━━━━━━━━━━\u001b[0m\u001b[91m╸\u001b[0m \u001b[32m42.4/42.4 MB\u001b[0m \u001b[31m148.9 MB/s\u001b[0m eta \u001b[36m0:00:01\u001b[0m\r",
      "\u001b[2K     \u001b[91m━━━━━━━━━━━━━━━━━━━━━━━━━━━━━━━━━━━━━━\u001b[0m\u001b[91m╸\u001b[0m \u001b[32m42.4/42.4 MB\u001b[0m \u001b[31m148.9 MB/s\u001b[0m eta \u001b[36m0:00:01\u001b[0m"
     ]
    },
    {
     "name": "stdout",
     "output_type": "stream",
     "text": [
      "\r",
      "\u001b[2K     \u001b[91m━━━━━━━━━━━━━━━━━━━━━━━━━━━━━━━━━━━━━━\u001b[0m\u001b[91m╸\u001b[0m \u001b[32m42.4/42.4 MB\u001b[0m \u001b[31m148.9 MB/s\u001b[0m eta \u001b[36m0:00:01\u001b[0m"
     ]
    },
    {
     "name": "stdout",
     "output_type": "stream",
     "text": [
      "\r",
      "\u001b[2K     \u001b[91m━━━━━━━━━━━━━━━━━━━━━━━━━━━━━━━━━━━━━━\u001b[0m\u001b[91m╸\u001b[0m \u001b[32m42.4/42.4 MB\u001b[0m \u001b[31m148.9 MB/s\u001b[0m eta \u001b[36m0:00:01\u001b[0m\r",
      "\u001b[2K     \u001b[91m━━━━━━━━━━━━━━━━━━━━━━━━━━━━━━━━━━━━━━\u001b[0m\u001b[91m╸\u001b[0m \u001b[32m42.4/42.4 MB\u001b[0m \u001b[31m148.9 MB/s\u001b[0m eta \u001b[36m0:00:01\u001b[0m"
     ]
    },
    {
     "name": "stdout",
     "output_type": "stream",
     "text": [
      "\r",
      "\u001b[2K     \u001b[90m━━━━━━━━━━━━━━━━━━━━━━━━━━━━━━━━━━━━━━━━\u001b[0m \u001b[32m42.4/42.4 MB\u001b[0m \u001b[31m21.7 MB/s\u001b[0m eta \u001b[36m0:00:00\u001b[0m\r\n",
      "\u001b[?25h"
     ]
    },
    {
     "name": "stdout",
     "output_type": "stream",
     "text": [
      "Building wheels for collected packages: cayleypy\r\n"
     ]
    },
    {
     "name": "stdout",
     "output_type": "stream",
     "text": [
      "  Building wheel for cayleypy (pyproject.toml) ... \u001b[?25l-"
     ]
    },
    {
     "name": "stdout",
     "output_type": "stream",
     "text": [
      "\b \b\\"
     ]
    },
    {
     "name": "stdout",
     "output_type": "stream",
     "text": [
      "\b \b|"
     ]
    },
    {
     "name": "stdout",
     "output_type": "stream",
     "text": [
      "\b \bdone\r\n",
      "\u001b[?25h  Created wheel for cayleypy: filename=cayleypy-0.1.0-py3-none-any.whl size=547301 sha256=d34aa9ae8faf40e2aabda919ebb12222023a4cfc047c6da47e253c33db462ffc\r\n",
      "  Stored in directory: /tmp/pip-ephem-wheel-cache-yn9vezty/wheels/81/cd/ef/13cfd6da410bba7a512255eb1005ab7fb72e3cc04949409c94\r\n",
      "Successfully built cayleypy\r\n"
     ]
    },
    {
     "name": "stdout",
     "output_type": "stream",
     "text": [
      "Installing collected packages: llvmlite, numba, cayleypy\r\n"
     ]
    },
    {
     "name": "stdout",
     "output_type": "stream",
     "text": [
      "Successfully installed cayleypy-0.1.0 llvmlite-0.44.0 numba-0.61.2\r\n",
      "\u001b[33mWARNING: Running pip as the 'root' user can result in broken permissions and conflicting behaviour with the system package manager. It is recommended to use a virtual environment instead: https://pip.pypa.io/warnings/venv\u001b[0m\u001b[33m\r\n",
      "\u001b[0m\r\n",
      "\u001b[1m[\u001b[0m\u001b[34;49mnotice\u001b[0m\u001b[1;39;49m]\u001b[0m\u001b[39;49m A new release of pip is available: \u001b[0m\u001b[31;49m23.0.1\u001b[0m\u001b[39;49m -> \u001b[0m\u001b[32;49m25.1.1\u001b[0m\r\n",
      "\u001b[1m[\u001b[0m\u001b[34;49mnotice\u001b[0m\u001b[1;39;49m]\u001b[0m\u001b[39;49m To update, run: \u001b[0m\u001b[32;49mpip install --upgrade pip\u001b[0m\r\n"
     ]
    }
   ],
   "source": [
    "!pip install git+https://github.com/cayleypy/cayleypy"
   ]
  },
  {
   "cell_type": "markdown",
   "id": "c2024fdb",
   "metadata": {
    "papermill": {
     "duration": 0.004505,
     "end_time": "2025-07-19T20:57:50.569085",
     "exception": false,
     "start_time": "2025-07-19T20:57:50.564580",
     "status": "completed"
    },
    "tags": []
   },
   "source": [
    "# Library of puzzles in GAP format in CayleyPy\n",
    "\n",
    "CayleyPy supports loading Cayley graphs for puzzles defined in GAP format. It also comes with extensive library of various puzzles in GAP format. These files were generated using using [cubing.js](https://js.cubing.net/cubing/).\n",
    "\n",
    "## Examples\n",
    "\n",
    "Here is the list of available puzzles:"
   ]
  },
  {
   "cell_type": "code",
   "execution_count": 2,
   "id": "a324e11f",
   "metadata": {
    "execution": {
     "iopub.execute_input": "2025-07-19T20:57:50.581003Z",
     "iopub.status.busy": "2025-07-19T20:57:50.580787Z",
     "iopub.status.idle": "2025-07-19T20:58:20.052540Z",
     "shell.execute_reply": "2025-07-19T20:58:20.045180Z"
    },
    "papermill": {
     "duration": 29.481856,
     "end_time": "2025-07-19T20:58:20.055034",
     "exception": false,
     "start_time": "2025-07-19T20:57:50.573178",
     "status": "completed"
    },
    "tags": []
   },
   "outputs": [
    {
     "name": "stdout",
     "output_type": "stream",
     "text": [
      "['10x10x10', '11x11x11', '12x12x12', '13x13x13', '20x20x20', '2x2x2', '2x2x2_+_dino', '2x2x2_+_dino_+_little_chop', '2x2x2_+_little_chop', '30x30x30', '3x3x3', '40x40x40', '4x4x4', '5x5x5', '6x6x6', '7x7x7', '8x8x8', '9x9x9', \"Christopher's_jewel\", \"Eitan's_star\", 'FTO', 'Icosaminx', 'Jing_pyraminx', 'Redicosahedron', 'Redicosahedron_with_centers', 'Regular_Astrominx', 'Regular_Astrominx_+_Big_Chop', \"Trajber's_octahedron\", 'big_chop', 'chopasaurus', 'compy_cube', 'curvy_copter', 'dino', 'dino_+_little_chop', 'elite_pentultimate', 'emperor_pyraminx', 'emperor_tetraminx', 'examinx', 'gigaminx', 'helicopter', 'icosamate', 'little_chop', 'master_FTO', 'master_pentultimate', 'master_pyraminx', 'master_pyramorphix', 'master_skewb', 'master_tetraminx', 'mastermorphix', 'megaminx', 'megaminx_+_chopasaurus', 'octastar', 'pentultimate', 'petaminx', 'professor_pyraminx', 'professor_skewb', 'professor_tetraminx', 'pyraminx', 'pyraminx_crystal', 'pyramorphix', 'radio_chop', 'royal_pyraminx', 'royal_tetraminx', 'skewb', 'skewb_diamond', 'starminx', 'starminx_2', 'starminx_combo', 'teraminx', 'tetraminx', 'yottaminx', 'zetaminx']\n"
     ]
    }
   ],
   "source": [
    "from cayleypy import GapPuzzles\n",
    "print(GapPuzzles.list_puzzles())"
   ]
  },
  {
   "cell_type": "markdown",
   "id": "3830ade3",
   "metadata": {
    "papermill": {
     "duration": 0.00429,
     "end_time": "2025-07-19T20:58:20.064094",
     "exception": false,
     "start_time": "2025-07-19T20:58:20.059804",
     "status": "completed"
    },
    "tags": []
   },
   "source": [
    "Here is an example how to load a puzzle by name:"
   ]
  },
  {
   "cell_type": "code",
   "execution_count": 3,
   "id": "13c97e66",
   "metadata": {
    "execution": {
     "iopub.execute_input": "2025-07-19T20:58:20.077983Z",
     "iopub.status.busy": "2025-07-19T20:58:20.077568Z",
     "iopub.status.idle": "2025-07-19T20:58:20.098273Z",
     "shell.execute_reply": "2025-07-19T20:58:20.090897Z"
    },
    "papermill": {
     "duration": 0.031324,
     "end_time": "2025-07-19T20:58:20.100967",
     "exception": false,
     "start_time": "2025-07-19T20:58:20.069643",
     "status": "completed"
    },
    "tags": []
   },
   "outputs": [
    {
     "data": {
      "text/plain": [
       "CayleyGraphDef(generators_type=<GeneratorType.PERMUTATION: 1>, generators_permutations=[[0, 1, 2, 3, 17, 16, 6, 7, 5, 4, 10, 11, 12, 13, 14, 15, 8, 9, 18, 19, 20, 21, 22, 23], [0, 1, 2, 3, 4, 5, 19, 18, 8, 9, 10, 11, 7, 6, 14, 15, 16, 17, 12, 13, 20, 21, 22, 23], [0, 1, 2, 3, 4, 5, 6, 7, 8, 9, 21, 20, 12, 13, 14, 15, 11, 10, 18, 19, 16, 17, 22, 23], [0, 1, 23, 22, 4, 5, 6, 7, 8, 9, 10, 11, 2, 3, 14, 15, 16, 17, 18, 19, 20, 21, 13, 12], [0, 1, 14, 15, 3, 2, 6, 7, 8, 9, 10, 11, 12, 13, 5, 4, 16, 17, 18, 19, 20, 21, 22, 23], [20, 21, 2, 3, 4, 5, 1, 0, 8, 9, 10, 11, 12, 13, 14, 15, 16, 17, 18, 19, 7, 6, 22, 23], [0, 1, 2, 3, 4, 5, 6, 7, 8, 9, 15, 14, 12, 13, 18, 19, 16, 17, 11, 10, 20, 21, 22, 23], [23, 22, 2, 3, 4, 5, 6, 7, 0, 1, 10, 11, 12, 13, 14, 15, 16, 17, 18, 19, 20, 21, 9, 8], [0, 1, 2, 3, 9, 8, 6, 7, 16, 17, 10, 11, 12, 13, 14, 15, 5, 4, 18, 19, 20, 21, 22, 23], [0, 1, 2, 3, 4, 5, 13, 12, 8, 9, 10, 11, 18, 19, 14, 15, 16, 17, 7, 6, 20, 21, 22, 23], [0, 1, 2, 3, 4, 5, 6, 7, 8, 9, 17, 16, 12, 13, 14, 15, 20, 21, 18, 19, 11, 10, 22, 23], [0, 1, 12, 13, 4, 5, 6, 7, 8, 9, 10, 11, 23, 22, 14, 15, 16, 17, 18, 19, 20, 21, 3, 2], [0, 1, 5, 4, 15, 14, 6, 7, 8, 9, 10, 11, 12, 13, 2, 3, 16, 17, 18, 19, 20, 21, 22, 23], [7, 6, 2, 3, 4, 5, 21, 20, 8, 9, 10, 11, 12, 13, 14, 15, 16, 17, 18, 19, 0, 1, 22, 23], [0, 1, 2, 3, 4, 5, 6, 7, 8, 9, 19, 18, 12, 13, 11, 10, 16, 17, 14, 15, 20, 21, 22, 23], [8, 9, 2, 3, 4, 5, 6, 7, 23, 22, 10, 11, 12, 13, 14, 15, 16, 17, 18, 19, 20, 21, 1, 0]], generators_matrices=[], generator_names=['DRF', 'UBL', 'DFL', 'URB', 'DBR', 'ULF', 'DLB', 'UFR', \"DRF'\", \"UBL'\", \"DFL'\", \"URB'\", \"DBR'\", \"ULF'\", \"DLB'\", \"UFR'\"], central_state=[0, 1, 2, 3, 4, 5, 6, 7, 8, 9, 10, 11, 12, 13, 14, 15, 16, 17, 18, 19, 20, 21, 22, 23])"
      ]
     },
     "execution_count": 3,
     "metadata": {},
     "output_type": "execute_result"
    }
   ],
   "source": [
    "GapPuzzles.puzzle(\"dino\")"
   ]
  },
  {
   "cell_type": "markdown",
   "id": "36511a82",
   "metadata": {
    "papermill": {
     "duration": 0.004747,
     "end_time": "2025-07-19T20:58:20.110741",
     "exception": false,
     "start_time": "2025-07-19T20:58:20.105994",
     "status": "completed"
    },
    "tags": []
   },
   "source": [
    "You can also load puzzle from any GAP file.\n",
    "\n",
    "Note that if GAP file doesn't define inverses for all permutat\n",
    "\n",
    "Here is an example how you can get path to one of GAP files that comes with the library and then load CayleyGraphDef from it:"
   ]
  },
  {
   "cell_type": "code",
   "execution_count": 4,
   "id": "412740ea",
   "metadata": {
    "execution": {
     "iopub.execute_input": "2025-07-19T20:58:20.124560Z",
     "iopub.status.busy": "2025-07-19T20:58:20.124275Z",
     "iopub.status.idle": "2025-07-19T20:58:20.139975Z",
     "shell.execute_reply": "2025-07-19T20:58:20.133925Z"
    },
    "papermill": {
     "duration": 0.026559,
     "end_time": "2025-07-19T20:58:20.142353",
     "exception": false,
     "start_time": "2025-07-19T20:58:20.115794",
     "status": "completed"
    },
    "tags": []
   },
   "outputs": [
    {
     "name": "stdout",
     "output_type": "stream",
     "text": [
      "/usr/local/lib/python3.10/site-packages/cayleypy/puzzles/gap_files/defaults/dino.gap\n"
     ]
    },
    {
     "data": {
      "text/plain": [
       "CayleyGraphDef(generators_type=<GeneratorType.PERMUTATION: 1>, generators_permutations=[[0, 1, 2, 3, 17, 16, 6, 7, 5, 4, 10, 11, 12, 13, 14, 15, 8, 9, 18, 19, 20, 21, 22, 23], [0, 1, 2, 3, 4, 5, 19, 18, 8, 9, 10, 11, 7, 6, 14, 15, 16, 17, 12, 13, 20, 21, 22, 23], [0, 1, 2, 3, 4, 5, 6, 7, 8, 9, 21, 20, 12, 13, 14, 15, 11, 10, 18, 19, 16, 17, 22, 23], [0, 1, 23, 22, 4, 5, 6, 7, 8, 9, 10, 11, 2, 3, 14, 15, 16, 17, 18, 19, 20, 21, 13, 12], [0, 1, 14, 15, 3, 2, 6, 7, 8, 9, 10, 11, 12, 13, 5, 4, 16, 17, 18, 19, 20, 21, 22, 23], [20, 21, 2, 3, 4, 5, 1, 0, 8, 9, 10, 11, 12, 13, 14, 15, 16, 17, 18, 19, 7, 6, 22, 23], [0, 1, 2, 3, 4, 5, 6, 7, 8, 9, 15, 14, 12, 13, 18, 19, 16, 17, 11, 10, 20, 21, 22, 23], [23, 22, 2, 3, 4, 5, 6, 7, 0, 1, 10, 11, 12, 13, 14, 15, 16, 17, 18, 19, 20, 21, 9, 8], [0, 1, 2, 3, 9, 8, 6, 7, 16, 17, 10, 11, 12, 13, 14, 15, 5, 4, 18, 19, 20, 21, 22, 23], [0, 1, 2, 3, 4, 5, 13, 12, 8, 9, 10, 11, 18, 19, 14, 15, 16, 17, 7, 6, 20, 21, 22, 23], [0, 1, 2, 3, 4, 5, 6, 7, 8, 9, 17, 16, 12, 13, 14, 15, 20, 21, 18, 19, 11, 10, 22, 23], [0, 1, 12, 13, 4, 5, 6, 7, 8, 9, 10, 11, 23, 22, 14, 15, 16, 17, 18, 19, 20, 21, 3, 2], [0, 1, 5, 4, 15, 14, 6, 7, 8, 9, 10, 11, 12, 13, 2, 3, 16, 17, 18, 19, 20, 21, 22, 23], [7, 6, 2, 3, 4, 5, 21, 20, 8, 9, 10, 11, 12, 13, 14, 15, 16, 17, 18, 19, 0, 1, 22, 23], [0, 1, 2, 3, 4, 5, 6, 7, 8, 9, 19, 18, 12, 13, 11, 10, 16, 17, 14, 15, 20, 21, 22, 23], [8, 9, 2, 3, 4, 5, 6, 7, 23, 22, 10, 11, 12, 13, 14, 15, 16, 17, 18, 19, 20, 21, 1, 0]], generators_matrices=[], generator_names=['DRF', 'UBL', 'DFL', 'URB', 'DBR', 'ULF', 'DLB', 'UFR', \"DRF'\", \"UBL'\", \"DFL'\", \"URB'\", \"DBR'\", \"ULF'\", \"DLB'\", \"UFR'\"], central_state=[0, 1, 2, 3, 4, 5, 6, 7, 8, 9, 10, 11, 12, 13, 14, 15, 16, 17, 18, 19, 20, 21, 22, 23])"
      ]
     },
     "execution_count": 4,
     "metadata": {},
     "output_type": "execute_result"
    }
   ],
   "source": [
    "path = GapPuzzles.get_gaps_dir() / \"defaults\"/ \"dino.gap\"\n",
    "print(path)\n",
    "GapPuzzles.load_puzzle_from_file(path)"
   ]
  },
  {
   "cell_type": "markdown",
   "id": "c61a7a28",
   "metadata": {
    "papermill": {
     "duration": 0.004861,
     "end_time": "2025-07-19T20:58:20.152077",
     "exception": false,
     "start_time": "2025-07-19T20:58:20.147216",
     "status": "completed"
    },
    "tags": []
   },
   "source": [
    "This is how GAP file looks. Generators are specified by lists of cycles (1-indexed). You can compare it to CayleyGraphDef for the same puzzle above."
   ]
  },
  {
   "cell_type": "code",
   "execution_count": 5,
   "id": "e06e5fc2",
   "metadata": {
    "execution": {
     "iopub.execute_input": "2025-07-19T20:58:20.165120Z",
     "iopub.status.busy": "2025-07-19T20:58:20.164844Z",
     "iopub.status.idle": "2025-07-19T20:58:20.175253Z",
     "shell.execute_reply": "2025-07-19T20:58:20.170113Z"
    },
    "papermill": {
     "duration": 0.021625,
     "end_time": "2025-07-19T20:58:20.178365",
     "exception": false,
     "start_time": "2025-07-19T20:58:20.156740",
     "status": "completed"
    },
    "tags": []
   },
   "outputs": [
    {
     "name": "stdout",
     "output_type": "stream",
     "text": [
      "# /home/username/.bun/bin/bun /home/username/Desktop/cayley/cubing.js/src/bin/puzzle-geometry-bin.ts --gap dino\n",
      "# PuzzleGeometry 0.1 Copyright 2018 Tomas Rokicki.\n",
      "# \n",
      "M_M_DRF:=(5,18,10)(6,17,9);\n",
      "M_M_UBL:=(7,20,14)(8,19,13);\n",
      "M_M_DFL:=(11,22,18)(12,21,17);\n",
      "M_M_URB:=(3,24,13)(4,23,14);\n",
      "M_M_DBR:=(3,15,6)(4,16,5);\n",
      "M_M_ULF:=(1,21,8)(2,22,7);\n",
      "M_M_DLB:=(11,16,20)(12,15,19);\n",
      "M_M_UFR:=(1,24,9)(2,23,10);\n",
      "Gen:=[\n",
      "M_M_DRF,M_M_UBL,M_M_DFL,M_M_URB,M_M_DBR,M_M_ULF,M_M_DLB,M_M_UFR\n",
      "];\n",
      "ip:=[[1],[3],[5],[7],[9],[11],[13],[15],[17],[19],[21],[23]];\n",
      "# Size(Group(Gen));\n",
      "# Size(Stabilizer(Group(Gen), ip, OnTuplesSets));\n",
      "\n",
      "\n"
     ]
    }
   ],
   "source": [
    "with open(path) as f:\n",
    "    print(f.read())"
   ]
  },
  {
   "cell_type": "markdown",
   "id": "bfdb3698",
   "metadata": {
    "papermill": {
     "duration": 0.004583,
     "end_time": "2025-07-19T20:58:20.187810",
     "exception": false,
     "start_time": "2025-07-19T20:58:20.183227",
     "status": "completed"
    },
    "tags": []
   },
   "source": [
    "## Listing all puzzles\n",
    "\n",
    "Below is the table of all available puzzles. For each puzzle we show: number of generators (after inverses were added), size of state (number of peices), number of colors (classes of equivalence of pieces) and first few terms of the growth function. Growth function is computed from the central state which corresponds to solved puzzle.\n",
    "\n",
    "For some small puzzles we also compute full growth function and show diameter and total number of states."
   ]
  },
  {
   "cell_type": "code",
   "execution_count": 6,
   "id": "a4be4bf5",
   "metadata": {
    "execution": {
     "iopub.execute_input": "2025-07-19T20:58:20.200735Z",
     "iopub.status.busy": "2025-07-19T20:58:20.200465Z",
     "iopub.status.idle": "2025-07-19T21:28:15.791003Z",
     "shell.execute_reply": "2025-07-19T21:28:15.785445Z"
    },
    "papermill": {
     "duration": 1795.600617,
     "end_time": "2025-07-19T21:28:15.793223",
     "exception": false,
     "start_time": "2025-07-19T20:58:20.192606",
     "status": "completed"
    },
    "tags": []
   },
   "outputs": [
    {
     "name": "stdout",
     "output_type": "stream",
     "text": [
      "['10x10x10', 60, 600, 312, '[1, 60, ...]']\n"
     ]
    },
    {
     "name": "stdout",
     "output_type": "stream",
     "text": [
      "['11x11x11', 60, 720, 360, '[1, 60, ...]']\n"
     ]
    },
    {
     "name": "stdout",
     "output_type": "stream",
     "text": [
      "['12x12x12', 72, 864, 414, '[1, 72, ...]']\n"
     ]
    },
    {
     "name": "stdout",
     "output_type": "stream",
     "text": [
      "['13x13x13', 72, 1008, 468, '[1, 72, ...]']\n"
     ]
    },
    {
     "name": "stdout",
     "output_type": "stream",
     "text": [
      "['20x20x20', 120, 2400, 942, '[1, 120, ...]']\n"
     ]
    },
    {
     "name": "stdout",
     "output_type": "stream",
     "text": [
      "['2x2x2', 12, 24, 24, '[1, 12, 114, 924, 6539, 39528, 199926, 806136, 2761740, 8656152, 22334112, ...]']\n"
     ]
    },
    {
     "name": "stdout",
     "output_type": "stream",
     "text": [
      "['2x2x2_+_dino', 28, 48, 48, '[1, 28, 658, 14908, 327755, 7026680, 147377530, ...]']\n"
     ]
    },
    {
     "name": "stdout",
     "output_type": "stream",
     "text": [
      "['2x2x2_+_dino_+_little_chop', 40, 48, 12, '[1, 40, 1360, 44593, 1415519, 43232699, ...]']\n"
     ]
    },
    {
     "name": "stdout",
     "output_type": "stream",
     "text": [
      "['2x2x2_+_little_chop', 24, 48, 12, '[1, 24, 528, 10833, 199439, 3112815, 38876160, ...]']\n"
     ]
    },
    {
     "name": "stdout",
     "output_type": "stream",
     "text": [
      "['30x30x30', 180, 5400, 1872, '[1, 180, ...]']\n"
     ]
    },
    {
     "name": "stdout",
     "output_type": "stream",
     "text": [
      "['3x3x3', 12, 48, 48, '[1, 12, 114, 1068, 10011, 93840, 878880, 8221632, 76843595, ...]']\n"
     ]
    },
    {
     "name": "stdout",
     "output_type": "stream",
     "text": [
      "['40x40x40', 240, 9600, 3102, '[1, 240, ...]']\n"
     ]
    },
    {
     "name": "stdout",
     "output_type": "stream",
     "text": [
      "['4x4x4', 24, 96, 78, '[1, 24, 468, 9000, 172914, 3316744, 63542526, ...]']\n"
     ]
    },
    {
     "name": "stdout",
     "output_type": "stream",
     "text": [
      "['5x5x5', 24, 144, 108, '[1, 24, 468, 9000, 172914, 3320104, 63720846, ...]']\n"
     ]
    },
    {
     "name": "stdout",
     "output_type": "stream",
     "text": [
      "['6x6x6', 36, 216, 144, '[1, 36, 1062, 30900, 896805, 25995032, ...]']\n"
     ]
    },
    {
     "name": "stdout",
     "output_type": "stream",
     "text": [
      "['7x7x7', 36, 288, 180, '[1, 36, ...]']\n"
     ]
    },
    {
     "name": "stdout",
     "output_type": "stream",
     "text": [
      "['8x8x8', 48, 384, 222, '[1, 48, ...]']\n"
     ]
    },
    {
     "name": "stdout",
     "output_type": "stream",
     "text": [
      "['9x9x9', 48, 480, 264, '[1, 48, ...]']\n"
     ]
    },
    {
     "name": "stdout",
     "output_type": "stream",
     "text": [
      "[\"Christopher's_jewel\", 12, 48, 48, '[1, 12, 114, 1068, 9819, 89392, 807000, 7231464, 64352783, ...]']\n"
     ]
    },
    {
     "name": "stdout",
     "output_type": "stream",
     "text": [
      "[\"Eitan's_star\", 40, 260, 220, '[1, 40, ...]']\n"
     ]
    },
    {
     "name": "stdout",
     "output_type": "stream",
     "text": [
      "['FTO', 16, 72, 56, '[1, 16, 208, 2688, 34752, 448336, 5772360, 74200286, ...]']\n"
     ]
    },
    {
     "name": "stdout",
     "output_type": "stream",
     "text": [
      "['Icosaminx', 24, 140, 140, '[1, 24, 408, 6208, 90144, 1280160, 17975460, ...]']\n"
     ]
    },
    {
     "name": "stdout",
     "output_type": "stream",
     "text": [
      "['Jing_pyraminx', 16, 28, 28, '[1, 16, 208, 2280, 19683, 123840, 693744, 3665796, 14871192, ...]']\n"
     ]
    },
    {
     "name": "stdout",
     "output_type": "stream",
     "text": [
      "['Redicosahedron', 24, 120, 120, '[1, 24, 408, 6208, 89664, 1257040, 17302020, ...]']\n"
     ]
    },
    {
     "name": "stdout",
     "output_type": "stream",
     "text": [
      "['Redicosahedron_with_centers', 24, 120, 120, '[1, 24, 408, 6208, 89664, 1257040, 17302020, ...]']\n"
     ]
    },
    {
     "name": "stdout",
     "output_type": "stream",
     "text": [
      "['Regular_Astrominx', 24, 180, 140, '[1, 24, 528, 11568, 253464, 5553040, 121654680, ...]']\n"
     ]
    },
    {
     "name": "stdout",
     "output_type": "stream",
     "text": [
      "['Regular_Astrominx_+_Big_Chop', 54, 360, 120, '[1, 54, ...]']\n"
     ]
    },
    {
     "name": "stdout",
     "output_type": "stream",
     "text": [
      "[\"Trajber's_octahedron\", 12, 56, 56, '[1, 12, 114, 1068, 10011, 93840, 878880, 8223216, 76870755, ...]']\n"
     ]
    },
    {
     "name": "stdout",
     "output_type": "stream",
     "text": [
      "['big_chop', 30, 120, 24, '[1, 30, 855, 22890, 580944, 13707000, ...]']\n"
     ]
    },
    {
     "name": "stdout",
     "output_type": "stream",
     "text": [
      "['chopasaurus', 40, 132, 84, '[1, 40, 1480, 51960, 1728399, 53193780, ...]']\n"
     ]
    },
    {
     "name": "stdout",
     "output_type": "stream",
     "text": [
      "['compy_cube', 16, 48, 48, '[1, 16, 160, 1408, 11808, 95712, 754732, 5793810, 43183952, ...]']\n"
     ]
    },
    {
     "name": "stdout",
     "output_type": "stream",
     "text": [
      "['curvy_copter', 12, 72, 54, '[1, 12, 90, 572, 3405, 19704, 112172, 631128, 3517264, 19446520, ...]']\n"
     ]
    },
    {
     "name": "stdout",
     "output_type": "stream",
     "text": [
      "['dino', 16, 24, 24, '[1, 16, 160, 1408, 11712, 90912, 644756, 4070826, 21433009, ...]']\n"
     ]
    },
    {
     "name": "stdout",
     "output_type": "stream",
     "text": [
      "['dino_+_little_chop', 28, 24, 6, '[1, 28, 574, 10789, 194567, 3399682, 57750546, ...]']\n"
     ]
    },
    {
     "name": "stdout",
     "output_type": "stream",
     "text": [
      "['elite_pentultimate', 48, 372, 228, '[1, 48, ...]']\n"
     ]
    },
    {
     "name": "stdout",
     "output_type": "stream",
     "text": [
      "['emperor_pyraminx', 48, 196, 156, '[1, 48, 1560, 46288, 1345616, 38851576, ...]']\n"
     ]
    },
    {
     "name": "stdout",
     "output_type": "stream",
     "text": [
      "['emperor_tetraminx', 48, 184, 144, '[1, 48, 1728, 59600, 2037248, 69336744, ...]']\n"
     ]
    },
    {
     "name": "stdout",
     "output_type": "stream",
     "text": [
      "['examinx', 120, 1800, 840, '[1, 120, ...]']\n"
     ]
    },
    {
     "name": "stdout",
     "output_type": "stream",
     "text": [
      "['gigaminx', 48, 360, 264, '[1, 48, ...]']\n"
     ]
    },
    {
     "name": "stdout",
     "output_type": "stream",
     "text": [
      "['helicopter', 12, 48, 30, '[1, 12, 90, 572, 3405, 19704, 112172, 631128, 3516964, 19439500, ...]']\n"
     ]
    },
    {
     "name": "stdout",
     "output_type": "stream",
     "text": [
      "['icosamate', 24, 80, 80, '[1, 24, 528, 10548, 193964, 3303360, 52545945, ...]']\n"
     ]
    },
    {
     "name": "stdout",
     "output_type": "stream",
     "text": [
      "['little_chop', 12, 24, 6, '[1, 12, 126, 1125, 8663, 57590, 322170, 1602577, 7614672, 35688336, ...]']\n"
     ]
    },
    {
     "name": "stdout",
     "output_type": "stream",
     "text": [
      "['master_FTO', 32, 128, 96, '[1, 32, 864, 23168, 620608, 16605856, ...]']\n"
     ]
    },
    {
     "name": "stdout",
     "output_type": "stream",
     "text": [
      "['master_pentultimate', 24, 192, 144, '[1, 24, 528, 11568, 253464, 5553600, 121680720, ...]']\n"
     ]
    },
    {
     "name": "stdout",
     "output_type": "stream",
     "text": [
      "['master_pyraminx', 32, 64, 64, '[1, 32, 672, 12624, 230048, 4135680, 73639820, ...]']\n"
     ]
    },
    {
     "name": "stdout",
     "output_type": "stream",
     "text": [
      "['master_pyramorphix', 6, 36, 36, '[1, 6, 27, 120, 519, 2088, 8368, 30798, 102953, 270312, 448817, 354276, 102484, 5910, 379, 42, 4]']\n"
     ]
    },
    {
     "name": "stdout",
     "output_type": "stream",
     "text": [
      "['master_skewb', 16, 78, 66, '[1, 16, 208, 2688, 34752, 449040, 5798664, 74828076, ...]']\n"
     ]
    },
    {
     "name": "stdout",
     "output_type": "stream",
     "text": [
      "['master_tetraminx', 16, 48, 48, '[1, 16, 184, 2048, 22704, 249600, 2721724, 29434109, ...]']\n"
     ]
    },
    {
     "name": "stdout",
     "output_type": "stream",
     "text": [
      "['mastermorphix', 6, 40, 40, '[1, 6, 27, 120, 519, 2088, 8368, 31470, 110793, 348504, 937705, 1721148, 1532612, 541230, 62955, 9642, 1228]']\n"
     ]
    },
    {
     "name": "stdout",
     "output_type": "stream",
     "text": [
      "['megaminx', 24, 120, 120, '[1, 24, 408, 6208, 90144, 1280160, 17975460, ...]']\n"
     ]
    },
    {
     "name": "stdout",
     "output_type": "stream",
     "text": [
      "['megaminx_+_chopasaurus', 64, 132, 84, '[1, 64, 3328, 164488, 7911503, 370002156, ...]']\n"
     ]
    },
    {
     "name": "stdout",
     "output_type": "stream",
     "text": [
      "['octastar', 12, 48, 48, '[1, 12, 126, 1128, 8747, 58776, 334338, 1688772, 8111316, 38320560, ...]']\n"
     ]
    },
    {
     "name": "stdout",
     "output_type": "stream",
     "text": [
      "['pentultimate', 24, 72, 72, '[1, 24, 528, 10548, 193964, 3303360, 52545945, ...]']\n"
     ]
    },
    {
     "name": "stdout",
     "output_type": "stream",
     "text": [
      "['petaminx', 96, 1200, 624, '[1, 96, ...]']\n"
     ]
    },
    {
     "name": "stdout",
     "output_type": "stream",
     "text": [
      "['professor_pyraminx', 32, 100, 92, '[1, 32, 672, 12624, 230528, 4169544, 75042552, ...]']\n"
     ]
    },
    {
     "name": "stdout",
     "output_type": "stream",
     "text": [
      "['professor_skewb', 32, 150, 114, '[1, 32, 864, 23168, 620992, 16632016, ...]']\n"
     ]
    },
    {
     "name": "stdout",
     "output_type": "stream",
     "text": [
      "['professor_tetraminx', 32, 88, 80, '[1, 32, 792, 18928, 447568, 10517336, ...]']\n"
     ]
    },
    {
     "name": "stdout",
     "output_type": "stream",
     "text": [
      "['pyraminx', 16, 36, 36, '[1, 16, 136, 896, 5456, 32528, 190260, 1070699, 5421594, 21136359, ...]']\n"
     ]
    },
    {
     "name": "stdout",
     "output_type": "stream",
     "text": [
      "['pyraminx_crystal', 24, 120, 120, '[1, 24, 528, 11568, 252504, 5503040, 119836680, ...]']\n"
     ]
    },
    {
     "name": "stdout",
     "output_type": "stream",
     "text": [
      "['pyramorphix', 6, 16, 16, '[1, 6, 27, 42, 20]']\n"
     ]
    },
    {
     "name": "stdout",
     "output_type": "stream",
     "text": [
      "['radio_chop', 40, 200, 200, '[1, 40, 1480, 51960, 1728399, 53193780, ...]']\n"
     ]
    },
    {
     "name": "stdout",
     "output_type": "stream",
     "text": [
      "['royal_pyraminx', 48, 144, 120, '[1, 48, 1560, 46288, 1345808, 38868000, ...]']\n"
     ]
    },
    {
     "name": "stdout",
     "output_type": "stream",
     "text": [
      "['royal_tetraminx', 32, 132, 108, '[1, 32, 768, 17712, 404032, 9165920, 207321860, ...]']\n"
     ]
    },
    {
     "name": "stdout",
     "output_type": "stream",
     "text": [
      "['skewb', 16, 30, 30, '[1, 16, 208, 2280, 19683, 125280, 712032, 3782376, 14705796, ...]']\n"
     ]
    },
    {
     "name": "stdout",
     "output_type": "stream",
     "text": [
      "['skewb_diamond', 16, 32, 32, '[1, 16, 208, 2280, 18795, 104856, 433752, 897588, 198564, 2640, 180]']\n"
     ]
    },
    {
     "name": "stdout",
     "output_type": "stream",
     "text": [
      "['starminx', 40, 120, 120, '[1, 40, 880, 14400, 198080, 2437424, 27788320, ...]']\n"
     ]
    },
    {
     "name": "stdout",
     "output_type": "stream",
     "text": [
      "['starminx_2', 24, 132, 84, '[1, 24, 528, 11568, 253464, 5553040, 121654680, ...]']\n"
     ]
    },
    {
     "name": "stdout",
     "output_type": "stream",
     "text": [
      "['starminx_combo', 64, 132, 84, '[1, 64, 2608, 91008, 3003704, 97164864, ...]']\n"
     ]
    },
    {
     "name": "stdout",
     "output_type": "stream",
     "text": [
      "['teraminx', 72, 720, 432, '[1, 72, ...]']\n"
     ]
    },
    {
     "name": "stdout",
     "output_type": "stream",
     "text": [
      "['tetraminx', 16, 24, 24, '[1, 16, 208, 2280, 19683, 121056, 622080, 2641332, 5765604, 1995312, 29484, 384]']\n"
     ]
    },
    {
     "name": "stdout",
     "output_type": "stream",
     "text": [
      "['yottaminx', 168, 3360, 1344, '[1, 168, ...]']\n"
     ]
    },
    {
     "name": "stdout",
     "output_type": "stream",
     "text": [
      "['zetaminx', 144, 2520, 1080, '[1, 144, ...]']\n"
     ]
    },
    {
     "data": {
      "text/html": [
       "<table border=\"1\" class=\"dataframe\">\n",
       "  <thead>\n",
       "    <tr style=\"text-align: right;\">\n",
       "      <th>Puzzle name</th>\n",
       "      <th># of generators</th>\n",
       "      <th>state size (n)</th>\n",
       "      <th># of colors</th>\n",
       "      <th>Growth</th>\n",
       "    </tr>\n",
       "  </thead>\n",
       "  <tbody>\n",
       "    <tr>\n",
       "      <td>10x10x10</td>\n",
       "      <td>60</td>\n",
       "      <td>600</td>\n",
       "      <td>312</td>\n",
       "      <td>[1, 60, ...]</td>\n",
       "    </tr>\n",
       "    <tr>\n",
       "      <td>11x11x11</td>\n",
       "      <td>60</td>\n",
       "      <td>720</td>\n",
       "      <td>360</td>\n",
       "      <td>[1, 60, ...]</td>\n",
       "    </tr>\n",
       "    <tr>\n",
       "      <td>12x12x12</td>\n",
       "      <td>72</td>\n",
       "      <td>864</td>\n",
       "      <td>414</td>\n",
       "      <td>[1, 72, ...]</td>\n",
       "    </tr>\n",
       "    <tr>\n",
       "      <td>13x13x13</td>\n",
       "      <td>72</td>\n",
       "      <td>1008</td>\n",
       "      <td>468</td>\n",
       "      <td>[1, 72, ...]</td>\n",
       "    </tr>\n",
       "    <tr>\n",
       "      <td>20x20x20</td>\n",
       "      <td>120</td>\n",
       "      <td>2400</td>\n",
       "      <td>942</td>\n",
       "      <td>[1, 120, ...]</td>\n",
       "    </tr>\n",
       "    <tr>\n",
       "      <td>2x2x2</td>\n",
       "      <td>12</td>\n",
       "      <td>24</td>\n",
       "      <td>24</td>\n",
       "      <td>[1, 12, 114, 924, 6539, 39528, 199926, 806136, 2761740, 8656152, 22334112, ...]</td>\n",
       "    </tr>\n",
       "    <tr>\n",
       "      <td>2x2x2_+_dino</td>\n",
       "      <td>28</td>\n",
       "      <td>48</td>\n",
       "      <td>48</td>\n",
       "      <td>[1, 28, 658, 14908, 327755, 7026680, 147377530, ...]</td>\n",
       "    </tr>\n",
       "    <tr>\n",
       "      <td>2x2x2_+_dino_+_little_chop</td>\n",
       "      <td>40</td>\n",
       "      <td>48</td>\n",
       "      <td>12</td>\n",
       "      <td>[1, 40, 1360, 44593, 1415519, 43232699, ...]</td>\n",
       "    </tr>\n",
       "    <tr>\n",
       "      <td>2x2x2_+_little_chop</td>\n",
       "      <td>24</td>\n",
       "      <td>48</td>\n",
       "      <td>12</td>\n",
       "      <td>[1, 24, 528, 10833, 199439, 3112815, 38876160, ...]</td>\n",
       "    </tr>\n",
       "    <tr>\n",
       "      <td>30x30x30</td>\n",
       "      <td>180</td>\n",
       "      <td>5400</td>\n",
       "      <td>1872</td>\n",
       "      <td>[1, 180, ...]</td>\n",
       "    </tr>\n",
       "    <tr>\n",
       "      <td>3x3x3</td>\n",
       "      <td>12</td>\n",
       "      <td>48</td>\n",
       "      <td>48</td>\n",
       "      <td>[1, 12, 114, 1068, 10011, 93840, 878880, 8221632, 76843595, ...]</td>\n",
       "    </tr>\n",
       "    <tr>\n",
       "      <td>40x40x40</td>\n",
       "      <td>240</td>\n",
       "      <td>9600</td>\n",
       "      <td>3102</td>\n",
       "      <td>[1, 240, ...]</td>\n",
       "    </tr>\n",
       "    <tr>\n",
       "      <td>4x4x4</td>\n",
       "      <td>24</td>\n",
       "      <td>96</td>\n",
       "      <td>78</td>\n",
       "      <td>[1, 24, 468, 9000, 172914, 3316744, 63542526, ...]</td>\n",
       "    </tr>\n",
       "    <tr>\n",
       "      <td>5x5x5</td>\n",
       "      <td>24</td>\n",
       "      <td>144</td>\n",
       "      <td>108</td>\n",
       "      <td>[1, 24, 468, 9000, 172914, 3320104, 63720846, ...]</td>\n",
       "    </tr>\n",
       "    <tr>\n",
       "      <td>6x6x6</td>\n",
       "      <td>36</td>\n",
       "      <td>216</td>\n",
       "      <td>144</td>\n",
       "      <td>[1, 36, 1062, 30900, 896805, 25995032, ...]</td>\n",
       "    </tr>\n",
       "    <tr>\n",
       "      <td>7x7x7</td>\n",
       "      <td>36</td>\n",
       "      <td>288</td>\n",
       "      <td>180</td>\n",
       "      <td>[1, 36, ...]</td>\n",
       "    </tr>\n",
       "    <tr>\n",
       "      <td>8x8x8</td>\n",
       "      <td>48</td>\n",
       "      <td>384</td>\n",
       "      <td>222</td>\n",
       "      <td>[1, 48, ...]</td>\n",
       "    </tr>\n",
       "    <tr>\n",
       "      <td>9x9x9</td>\n",
       "      <td>48</td>\n",
       "      <td>480</td>\n",
       "      <td>264</td>\n",
       "      <td>[1, 48, ...]</td>\n",
       "    </tr>\n",
       "    <tr>\n",
       "      <td>Christopher's_jewel</td>\n",
       "      <td>12</td>\n",
       "      <td>48</td>\n",
       "      <td>48</td>\n",
       "      <td>[1, 12, 114, 1068, 9819, 89392, 807000, 7231464, 64352783, ...]</td>\n",
       "    </tr>\n",
       "    <tr>\n",
       "      <td>Eitan's_star</td>\n",
       "      <td>40</td>\n",
       "      <td>260</td>\n",
       "      <td>220</td>\n",
       "      <td>[1, 40, ...]</td>\n",
       "    </tr>\n",
       "    <tr>\n",
       "      <td>FTO</td>\n",
       "      <td>16</td>\n",
       "      <td>72</td>\n",
       "      <td>56</td>\n",
       "      <td>[1, 16, 208, 2688, 34752, 448336, 5772360, 74200286, ...]</td>\n",
       "    </tr>\n",
       "    <tr>\n",
       "      <td>Icosaminx</td>\n",
       "      <td>24</td>\n",
       "      <td>140</td>\n",
       "      <td>140</td>\n",
       "      <td>[1, 24, 408, 6208, 90144, 1280160, 17975460, ...]</td>\n",
       "    </tr>\n",
       "    <tr>\n",
       "      <td>Jing_pyraminx</td>\n",
       "      <td>16</td>\n",
       "      <td>28</td>\n",
       "      <td>28</td>\n",
       "      <td>[1, 16, 208, 2280, 19683, 123840, 693744, 3665796, 14871192, ...]</td>\n",
       "    </tr>\n",
       "    <tr>\n",
       "      <td>Redicosahedron</td>\n",
       "      <td>24</td>\n",
       "      <td>120</td>\n",
       "      <td>120</td>\n",
       "      <td>[1, 24, 408, 6208, 89664, 1257040, 17302020, ...]</td>\n",
       "    </tr>\n",
       "    <tr>\n",
       "      <td>Redicosahedron_with_centers</td>\n",
       "      <td>24</td>\n",
       "      <td>120</td>\n",
       "      <td>120</td>\n",
       "      <td>[1, 24, 408, 6208, 89664, 1257040, 17302020, ...]</td>\n",
       "    </tr>\n",
       "    <tr>\n",
       "      <td>Regular_Astrominx</td>\n",
       "      <td>24</td>\n",
       "      <td>180</td>\n",
       "      <td>140</td>\n",
       "      <td>[1, 24, 528, 11568, 253464, 5553040, 121654680, ...]</td>\n",
       "    </tr>\n",
       "    <tr>\n",
       "      <td>Regular_Astrominx_+_Big_Chop</td>\n",
       "      <td>54</td>\n",
       "      <td>360</td>\n",
       "      <td>120</td>\n",
       "      <td>[1, 54, ...]</td>\n",
       "    </tr>\n",
       "    <tr>\n",
       "      <td>Trajber's_octahedron</td>\n",
       "      <td>12</td>\n",
       "      <td>56</td>\n",
       "      <td>56</td>\n",
       "      <td>[1, 12, 114, 1068, 10011, 93840, 878880, 8223216, 76870755, ...]</td>\n",
       "    </tr>\n",
       "    <tr>\n",
       "      <td>big_chop</td>\n",
       "      <td>30</td>\n",
       "      <td>120</td>\n",
       "      <td>24</td>\n",
       "      <td>[1, 30, 855, 22890, 580944, 13707000, ...]</td>\n",
       "    </tr>\n",
       "    <tr>\n",
       "      <td>chopasaurus</td>\n",
       "      <td>40</td>\n",
       "      <td>132</td>\n",
       "      <td>84</td>\n",
       "      <td>[1, 40, 1480, 51960, 1728399, 53193780, ...]</td>\n",
       "    </tr>\n",
       "    <tr>\n",
       "      <td>compy_cube</td>\n",
       "      <td>16</td>\n",
       "      <td>48</td>\n",
       "      <td>48</td>\n",
       "      <td>[1, 16, 160, 1408, 11808, 95712, 754732, 5793810, 43183952, ...]</td>\n",
       "    </tr>\n",
       "    <tr>\n",
       "      <td>curvy_copter</td>\n",
       "      <td>12</td>\n",
       "      <td>72</td>\n",
       "      <td>54</td>\n",
       "      <td>[1, 12, 90, 572, 3405, 19704, 112172, 631128, 3517264, 19446520, ...]</td>\n",
       "    </tr>\n",
       "    <tr>\n",
       "      <td>dino</td>\n",
       "      <td>16</td>\n",
       "      <td>24</td>\n",
       "      <td>24</td>\n",
       "      <td>[1, 16, 160, 1408, 11712, 90912, 644756, 4070826, 21433009, ...]</td>\n",
       "    </tr>\n",
       "    <tr>\n",
       "      <td>dino_+_little_chop</td>\n",
       "      <td>28</td>\n",
       "      <td>24</td>\n",
       "      <td>6</td>\n",
       "      <td>[1, 28, 574, 10789, 194567, 3399682, 57750546, ...]</td>\n",
       "    </tr>\n",
       "    <tr>\n",
       "      <td>elite_pentultimate</td>\n",
       "      <td>48</td>\n",
       "      <td>372</td>\n",
       "      <td>228</td>\n",
       "      <td>[1, 48, ...]</td>\n",
       "    </tr>\n",
       "    <tr>\n",
       "      <td>emperor_pyraminx</td>\n",
       "      <td>48</td>\n",
       "      <td>196</td>\n",
       "      <td>156</td>\n",
       "      <td>[1, 48, 1560, 46288, 1345616, 38851576, ...]</td>\n",
       "    </tr>\n",
       "    <tr>\n",
       "      <td>emperor_tetraminx</td>\n",
       "      <td>48</td>\n",
       "      <td>184</td>\n",
       "      <td>144</td>\n",
       "      <td>[1, 48, 1728, 59600, 2037248, 69336744, ...]</td>\n",
       "    </tr>\n",
       "    <tr>\n",
       "      <td>examinx</td>\n",
       "      <td>120</td>\n",
       "      <td>1800</td>\n",
       "      <td>840</td>\n",
       "      <td>[1, 120, ...]</td>\n",
       "    </tr>\n",
       "    <tr>\n",
       "      <td>gigaminx</td>\n",
       "      <td>48</td>\n",
       "      <td>360</td>\n",
       "      <td>264</td>\n",
       "      <td>[1, 48, ...]</td>\n",
       "    </tr>\n",
       "    <tr>\n",
       "      <td>helicopter</td>\n",
       "      <td>12</td>\n",
       "      <td>48</td>\n",
       "      <td>30</td>\n",
       "      <td>[1, 12, 90, 572, 3405, 19704, 112172, 631128, 3516964, 19439500, ...]</td>\n",
       "    </tr>\n",
       "    <tr>\n",
       "      <td>icosamate</td>\n",
       "      <td>24</td>\n",
       "      <td>80</td>\n",
       "      <td>80</td>\n",
       "      <td>[1, 24, 528, 10548, 193964, 3303360, 52545945, ...]</td>\n",
       "    </tr>\n",
       "    <tr>\n",
       "      <td>little_chop</td>\n",
       "      <td>12</td>\n",
       "      <td>24</td>\n",
       "      <td>6</td>\n",
       "      <td>[1, 12, 126, 1125, 8663, 57590, 322170, 1602577, 7614672, 35688336, ...]</td>\n",
       "    </tr>\n",
       "    <tr>\n",
       "      <td>master_FTO</td>\n",
       "      <td>32</td>\n",
       "      <td>128</td>\n",
       "      <td>96</td>\n",
       "      <td>[1, 32, 864, 23168, 620608, 16605856, ...]</td>\n",
       "    </tr>\n",
       "    <tr>\n",
       "      <td>master_pentultimate</td>\n",
       "      <td>24</td>\n",
       "      <td>192</td>\n",
       "      <td>144</td>\n",
       "      <td>[1, 24, 528, 11568, 253464, 5553600, 121680720, ...]</td>\n",
       "    </tr>\n",
       "    <tr>\n",
       "      <td>master_pyraminx</td>\n",
       "      <td>32</td>\n",
       "      <td>64</td>\n",
       "      <td>64</td>\n",
       "      <td>[1, 32, 672, 12624, 230048, 4135680, 73639820, ...]</td>\n",
       "    </tr>\n",
       "    <tr>\n",
       "      <td>master_pyramorphix</td>\n",
       "      <td>6</td>\n",
       "      <td>36</td>\n",
       "      <td>36</td>\n",
       "      <td>[1, 6, 27, 120, 519, 2088, 8368, 30798, 102953, 270312, 448817, 354276, 102484, 5910, 379, 42, 4]</td>\n",
       "    </tr>\n",
       "    <tr>\n",
       "      <td>master_skewb</td>\n",
       "      <td>16</td>\n",
       "      <td>78</td>\n",
       "      <td>66</td>\n",
       "      <td>[1, 16, 208, 2688, 34752, 449040, 5798664, 74828076, ...]</td>\n",
       "    </tr>\n",
       "    <tr>\n",
       "      <td>master_tetraminx</td>\n",
       "      <td>16</td>\n",
       "      <td>48</td>\n",
       "      <td>48</td>\n",
       "      <td>[1, 16, 184, 2048, 22704, 249600, 2721724, 29434109, ...]</td>\n",
       "    </tr>\n",
       "    <tr>\n",
       "      <td>mastermorphix</td>\n",
       "      <td>6</td>\n",
       "      <td>40</td>\n",
       "      <td>40</td>\n",
       "      <td>[1, 6, 27, 120, 519, 2088, 8368, 31470, 110793, 348504, 937705, 1721148, 1532612, 541230, 62955, 9642, 1228]</td>\n",
       "    </tr>\n",
       "    <tr>\n",
       "      <td>megaminx</td>\n",
       "      <td>24</td>\n",
       "      <td>120</td>\n",
       "      <td>120</td>\n",
       "      <td>[1, 24, 408, 6208, 90144, 1280160, 17975460, ...]</td>\n",
       "    </tr>\n",
       "    <tr>\n",
       "      <td>megaminx_+_chopasaurus</td>\n",
       "      <td>64</td>\n",
       "      <td>132</td>\n",
       "      <td>84</td>\n",
       "      <td>[1, 64, 3328, 164488, 7911503, 370002156, ...]</td>\n",
       "    </tr>\n",
       "    <tr>\n",
       "      <td>octastar</td>\n",
       "      <td>12</td>\n",
       "      <td>48</td>\n",
       "      <td>48</td>\n",
       "      <td>[1, 12, 126, 1128, 8747, 58776, 334338, 1688772, 8111316, 38320560, ...]</td>\n",
       "    </tr>\n",
       "    <tr>\n",
       "      <td>pentultimate</td>\n",
       "      <td>24</td>\n",
       "      <td>72</td>\n",
       "      <td>72</td>\n",
       "      <td>[1, 24, 528, 10548, 193964, 3303360, 52545945, ...]</td>\n",
       "    </tr>\n",
       "    <tr>\n",
       "      <td>petaminx</td>\n",
       "      <td>96</td>\n",
       "      <td>1200</td>\n",
       "      <td>624</td>\n",
       "      <td>[1, 96, ...]</td>\n",
       "    </tr>\n",
       "    <tr>\n",
       "      <td>professor_pyraminx</td>\n",
       "      <td>32</td>\n",
       "      <td>100</td>\n",
       "      <td>92</td>\n",
       "      <td>[1, 32, 672, 12624, 230528, 4169544, 75042552, ...]</td>\n",
       "    </tr>\n",
       "    <tr>\n",
       "      <td>professor_skewb</td>\n",
       "      <td>32</td>\n",
       "      <td>150</td>\n",
       "      <td>114</td>\n",
       "      <td>[1, 32, 864, 23168, 620992, 16632016, ...]</td>\n",
       "    </tr>\n",
       "    <tr>\n",
       "      <td>professor_tetraminx</td>\n",
       "      <td>32</td>\n",
       "      <td>88</td>\n",
       "      <td>80</td>\n",
       "      <td>[1, 32, 792, 18928, 447568, 10517336, ...]</td>\n",
       "    </tr>\n",
       "    <tr>\n",
       "      <td>pyraminx</td>\n",
       "      <td>16</td>\n",
       "      <td>36</td>\n",
       "      <td>36</td>\n",
       "      <td>[1, 16, 136, 896, 5456, 32528, 190260, 1070699, 5421594, 21136359, ...]</td>\n",
       "    </tr>\n",
       "    <tr>\n",
       "      <td>pyraminx_crystal</td>\n",
       "      <td>24</td>\n",
       "      <td>120</td>\n",
       "      <td>120</td>\n",
       "      <td>[1, 24, 528, 11568, 252504, 5503040, 119836680, ...]</td>\n",
       "    </tr>\n",
       "    <tr>\n",
       "      <td>pyramorphix</td>\n",
       "      <td>6</td>\n",
       "      <td>16</td>\n",
       "      <td>16</td>\n",
       "      <td>[1, 6, 27, 42, 20]</td>\n",
       "    </tr>\n",
       "    <tr>\n",
       "      <td>radio_chop</td>\n",
       "      <td>40</td>\n",
       "      <td>200</td>\n",
       "      <td>200</td>\n",
       "      <td>[1, 40, 1480, 51960, 1728399, 53193780, ...]</td>\n",
       "    </tr>\n",
       "    <tr>\n",
       "      <td>royal_pyraminx</td>\n",
       "      <td>48</td>\n",
       "      <td>144</td>\n",
       "      <td>120</td>\n",
       "      <td>[1, 48, 1560, 46288, 1345808, 38868000, ...]</td>\n",
       "    </tr>\n",
       "    <tr>\n",
       "      <td>royal_tetraminx</td>\n",
       "      <td>32</td>\n",
       "      <td>132</td>\n",
       "      <td>108</td>\n",
       "      <td>[1, 32, 768, 17712, 404032, 9165920, 207321860, ...]</td>\n",
       "    </tr>\n",
       "    <tr>\n",
       "      <td>skewb</td>\n",
       "      <td>16</td>\n",
       "      <td>30</td>\n",
       "      <td>30</td>\n",
       "      <td>[1, 16, 208, 2280, 19683, 125280, 712032, 3782376, 14705796, ...]</td>\n",
       "    </tr>\n",
       "    <tr>\n",
       "      <td>skewb_diamond</td>\n",
       "      <td>16</td>\n",
       "      <td>32</td>\n",
       "      <td>32</td>\n",
       "      <td>[1, 16, 208, 2280, 18795, 104856, 433752, 897588, 198564, 2640, 180]</td>\n",
       "    </tr>\n",
       "    <tr>\n",
       "      <td>starminx</td>\n",
       "      <td>40</td>\n",
       "      <td>120</td>\n",
       "      <td>120</td>\n",
       "      <td>[1, 40, 880, 14400, 198080, 2437424, 27788320, ...]</td>\n",
       "    </tr>\n",
       "    <tr>\n",
       "      <td>starminx_2</td>\n",
       "      <td>24</td>\n",
       "      <td>132</td>\n",
       "      <td>84</td>\n",
       "      <td>[1, 24, 528, 11568, 253464, 5553040, 121654680, ...]</td>\n",
       "    </tr>\n",
       "    <tr>\n",
       "      <td>starminx_combo</td>\n",
       "      <td>64</td>\n",
       "      <td>132</td>\n",
       "      <td>84</td>\n",
       "      <td>[1, 64, 2608, 91008, 3003704, 97164864, ...]</td>\n",
       "    </tr>\n",
       "    <tr>\n",
       "      <td>teraminx</td>\n",
       "      <td>72</td>\n",
       "      <td>720</td>\n",
       "      <td>432</td>\n",
       "      <td>[1, 72, ...]</td>\n",
       "    </tr>\n",
       "    <tr>\n",
       "      <td>tetraminx</td>\n",
       "      <td>16</td>\n",
       "      <td>24</td>\n",
       "      <td>24</td>\n",
       "      <td>[1, 16, 208, 2280, 19683, 121056, 622080, 2641332, 5765604, 1995312, 29484, 384]</td>\n",
       "    </tr>\n",
       "    <tr>\n",
       "      <td>yottaminx</td>\n",
       "      <td>168</td>\n",
       "      <td>3360</td>\n",
       "      <td>1344</td>\n",
       "      <td>[1, 168, ...]</td>\n",
       "    </tr>\n",
       "    <tr>\n",
       "      <td>zetaminx</td>\n",
       "      <td>144</td>\n",
       "      <td>2520</td>\n",
       "      <td>1080</td>\n",
       "      <td>[1, 144, ...]</td>\n",
       "    </tr>\n",
       "  </tbody>\n",
       "</table>"
      ],
      "text/plain": [
       "<IPython.core.display.HTML object>"
      ]
     },
     "metadata": {},
     "output_type": "display_data"
    }
   ],
   "source": [
    "from cayleypy import CayleyGraph, GapPuzzles\n",
    "\n",
    "header = [\"Puzzle name\", \"# of generators\", \"state size (n)\", \"# of colors\", \"Growth\"]\n",
    "table = []\n",
    "for name in GapPuzzles.list_puzzles():\n",
    "    gd = GapPuzzles.puzzle(name)\n",
    "    n_colors = max(gd.central_state)+1\n",
    "    row = [name, gd.n_generators, gd.state_size, n_colors]\n",
    "    if gd.n_generators * gd.state_size <= 10000:\n",
    "        graph = CayleyGraph(gd)\n",
    "        graph.free_memory()\n",
    "        bfs_result = graph.bfs(max_layer_size_to_explore=10**7)\n",
    "        if bfs_result.bfs_completed:\n",
    "            row += [str(bfs_result.layer_sizes)]\n",
    "        else:\n",
    "            row += [str(bfs_result.layer_sizes)[:-1] + \", ...]\"]\n",
    "    else:\n",
    "        row += [f\"[1, {gd.n_generators}, ...]\"]\n",
    "    table.append(row)\n",
    "    print(row)\n",
    "\n",
    "import pandas as pd\n",
    "from IPython.display import display, HTML\n",
    "display(HTML(pd.DataFrame(table, columns=header).to_html(index=False)))"
   ]
  }
 ],
 "metadata": {
  "kaggle": {
   "accelerator": "tpu1vmV38",
   "dataSources": [],
   "dockerImageVersionId": 31090,
   "isGpuEnabled": false,
   "isInternetEnabled": true,
   "language": "python",
   "sourceType": "notebook"
  },
  "kernelspec": {
   "display_name": "Python 3",
   "language": "python",
   "name": "python3"
  },
  "language_info": {
   "codemirror_mode": {
    "name": "ipython",
    "version": 3
   },
   "file_extension": ".py",
   "mimetype": "text/x-python",
   "name": "python",
   "nbconvert_exporter": "python",
   "pygments_lexer": "ipython3",
   "version": "3.10.18"
  },
  "papermill": {
   "default_parameters": {},
   "duration": 1847.804009,
   "end_time": "2025-07-19T21:28:16.829398",
   "environment_variables": {},
   "exception": null,
   "input_path": "__notebook__.ipynb",
   "output_path": "__notebook__.ipynb",
   "parameters": {},
   "start_time": "2025-07-19T20:57:29.025389",
   "version": "2.6.0"
  }
 },
 "nbformat": 4,
 "nbformat_minor": 5
}
