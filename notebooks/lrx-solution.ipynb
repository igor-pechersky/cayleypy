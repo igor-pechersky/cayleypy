{
 "cells": [
  {
   "cell_type": "code",
   "execution_count": 1,
   "id": "0cde85be",
   "metadata": {
    "_cell_guid": "b1076dfc-b9ad-4769-8c92-a6c4dae69d19",
    "_uuid": "8f2839f25d086af736a60e9eeb907d3b93b6e0e5",
    "execution": {
     "iopub.execute_input": "2025-07-11T15:17:10.142646Z",
     "iopub.status.busy": "2025-07-11T15:17:10.142339Z",
     "iopub.status.idle": "2025-07-11T15:17:22.489936Z",
     "shell.execute_reply": "2025-07-11T15:17:22.488830Z"
    },
    "papermill": {
     "duration": 12.353023,
     "end_time": "2025-07-11T15:17:22.491697",
     "exception": false,
     "start_time": "2025-07-11T15:17:10.138674",
     "status": "completed"
    },
    "tags": []
   },
   "outputs": [
    {
     "name": "stdout",
     "output_type": "stream",
     "text": [
      "Collecting git+https://github.com/cayleypy/cayleypy\r\n",
      "  Cloning https://github.com/cayleypy/cayleypy to /tmp/pip-req-build-ee8pf0ti\r\n",
      "  Running command git clone --filter=blob:none --quiet https://github.com/cayleypy/cayleypy /tmp/pip-req-build-ee8pf0ti\r\n",
      "  Resolved https://github.com/cayleypy/cayleypy to commit 28c6154c65832e51aa0ae9fe94401dd2b8e23776\r\n",
      "  Installing build dependencies ... \u001b[?25l\u001b[?25hdone\r\n",
      "  Getting requirements to build wheel ... \u001b[?25l\u001b[?25hdone\r\n",
      "  Preparing metadata (pyproject.toml) ... \u001b[?25l\u001b[?25hdone\r\n",
      "Requirement already satisfied: h5py in /usr/local/lib/python3.11/dist-packages (from cayleypy==0.1.0) (3.14.0)\r\n",
      "Requirement already satisfied: numba in /usr/local/lib/python3.11/dist-packages (from cayleypy==0.1.0) (0.60.0)\r\n",
      "Requirement already satisfied: numpy in /usr/local/lib/python3.11/dist-packages (from cayleypy==0.1.0) (1.26.4)\r\n",
      "Requirement already satisfied: scipy in /usr/local/lib/python3.11/dist-packages (from cayleypy==0.1.0) (1.15.3)\r\n",
      "Requirement already satisfied: mkl_fft in /usr/local/lib/python3.11/dist-packages (from numpy->cayleypy==0.1.0) (1.3.8)\r\n",
      "Requirement already satisfied: mkl_random in /usr/local/lib/python3.11/dist-packages (from numpy->cayleypy==0.1.0) (1.2.4)\r\n",
      "Requirement already satisfied: mkl_umath in /usr/local/lib/python3.11/dist-packages (from numpy->cayleypy==0.1.0) (0.1.1)\r\n",
      "Requirement already satisfied: mkl in /usr/local/lib/python3.11/dist-packages (from numpy->cayleypy==0.1.0) (2025.2.0)\r\n",
      "Requirement already satisfied: tbb4py in /usr/local/lib/python3.11/dist-packages (from numpy->cayleypy==0.1.0) (2022.2.0)\r\n",
      "Requirement already satisfied: mkl-service in /usr/local/lib/python3.11/dist-packages (from numpy->cayleypy==0.1.0) (2.4.1)\r\n",
      "Requirement already satisfied: llvmlite<0.44,>=0.43.0dev0 in /usr/local/lib/python3.11/dist-packages (from numba->cayleypy==0.1.0) (0.43.0)\r\n",
      "Requirement already satisfied: intel-openmp<2026,>=2024 in /usr/local/lib/python3.11/dist-packages (from mkl->numpy->cayleypy==0.1.0) (2024.2.0)\r\n",
      "Requirement already satisfied: tbb==2022.* in /usr/local/lib/python3.11/dist-packages (from mkl->numpy->cayleypy==0.1.0) (2022.2.0)\r\n",
      "Requirement already satisfied: tcmlib==1.* in /usr/local/lib/python3.11/dist-packages (from tbb==2022.*->mkl->numpy->cayleypy==0.1.0) (1.4.0)\r\n",
      "Requirement already satisfied: intel-cmplr-lib-rt in /usr/local/lib/python3.11/dist-packages (from mkl_umath->numpy->cayleypy==0.1.0) (2024.2.0)\r\n",
      "Requirement already satisfied: intel-cmplr-lib-ur==2024.2.0 in /usr/local/lib/python3.11/dist-packages (from intel-openmp<2026,>=2024->mkl->numpy->cayleypy==0.1.0) (2024.2.0)\r\n",
      "Building wheels for collected packages: cayleypy\r\n",
      "  Building wheel for cayleypy (pyproject.toml) ... \u001b[?25l\u001b[?25hdone\r\n",
      "  Created wheel for cayleypy: filename=cayleypy-0.1.0-py3-none-any.whl size=123696 sha256=330fd6e8933f1970e49fd9314a35738e70c02e31e1300280a2962cab2e3d137b\r\n",
      "  Stored in directory: /tmp/pip-ephem-wheel-cache-r2fm52_3/wheels/5d/b5/53/86782f2010b218369465580e31a6c289b7f2a73390b39a23f3\r\n",
      "Successfully built cayleypy\r\n",
      "Installing collected packages: cayleypy\r\n",
      "Successfully installed cayleypy-0.1.0\r\n"
     ]
    }
   ],
   "source": [
    "!pip install git+https://github.com/cayleypy/cayleypy"
   ]
  },
  {
   "cell_type": "code",
   "execution_count": 2,
   "id": "c97e184c",
   "metadata": {
    "execution": {
     "iopub.execute_input": "2025-07-11T15:17:22.498126Z",
     "iopub.status.busy": "2025-07-11T15:17:22.497822Z",
     "iopub.status.idle": "2025-07-11T15:17:31.551335Z",
     "shell.execute_reply": "2025-07-11T15:17:31.550400Z"
    },
    "papermill": {
     "duration": 9.058667,
     "end_time": "2025-07-11T15:17:31.553205",
     "exception": false,
     "start_time": "2025-07-11T15:17:22.494538",
     "status": "completed"
    },
    "tags": []
   },
   "outputs": [],
   "source": [
    "from cayleypy import CayleyGraph, CayleyGraphDef, PermutationGroups\n",
    "\n",
    "graph8 = CayleyGraph(PermutationGroups.lrx(8))\n",
    "br8=graph8.bfs(return_all_hashes=True)"
   ]
  },
  {
   "cell_type": "code",
   "execution_count": 3,
   "id": "b2c53291",
   "metadata": {
    "execution": {
     "iopub.execute_input": "2025-07-11T15:17:31.559110Z",
     "iopub.status.busy": "2025-07-11T15:17:31.558650Z",
     "iopub.status.idle": "2025-07-11T15:17:39.845341Z",
     "shell.execute_reply": "2025-07-11T15:17:39.844037Z"
    },
    "papermill": {
     "duration": 8.291305,
     "end_time": "2025-07-11T15:17:39.846939",
     "exception": false,
     "start_time": "2025-07-11T15:17:31.555634",
     "status": "completed"
    },
    "tags": []
   },
   "outputs": [
    {
     "name": "stdout",
     "output_type": "stream",
     "text": [
      "total_delta= -1318\n",
      "total_score= 1459662\n"
     ]
    }
   ],
   "source": [
    "import pandas as pd \n",
    "data = pd.read_csv(\"/kaggle/input/lrx-discover-math-gods-algorithm/sample_submission.csv\")\n",
    "\n",
    "ans=[]\n",
    "total_score=0\n",
    "total_delta=0\n",
    "\n",
    "for i, row in data.iterrows():\n",
    "    perm_str = row[\"permutation\"]\n",
    "    start_state = [int(x) for x in perm_str.split(\",\")]\n",
    "    n = len(start_state)\n",
    "    sol0 = row[\"solution\"]\n",
    "\n",
    "    sol = sol0\n",
    "    if n == 8:\n",
    "        path = graph8.find_path_from(start_state, br8)\n",
    "        sol = graph8.definition.path_to_string(path)\n",
    "    else:\n",
    "        pass\n",
    "\n",
    "    score = len(sol.split(\".\"))\n",
    "    delta = score - len(sol0.split(\".\"))\n",
    "    #print(\"n=\", n, \"score=\", score, \"delta=\", delta)\n",
    "    total_delta+=delta\n",
    "    total_score+=score\n",
    "    ans.append(f'\"{perm_str}\",{sol}')\n",
    "\n",
    "print(\"total_delta=\", total_delta)\n",
    "print(\"total_score=\", total_score)"
   ]
  },
  {
   "cell_type": "code",
   "execution_count": 4,
   "id": "4c5886ae",
   "metadata": {
    "execution": {
     "iopub.execute_input": "2025-07-11T15:17:39.853313Z",
     "iopub.status.busy": "2025-07-11T15:17:39.852972Z",
     "iopub.status.idle": "2025-07-11T15:17:39.867268Z",
     "shell.execute_reply": "2025-07-11T15:17:39.866208Z"
    },
    "papermill": {
     "duration": 0.019651,
     "end_time": "2025-07-11T15:17:39.869086",
     "exception": false,
     "start_time": "2025-07-11T15:17:39.849435",
     "status": "completed"
    },
    "tags": []
   },
   "outputs": [],
   "source": [
    "with open(\"/kaggle/working/submission.csv\", \"w\") as f:\n",
    "    f.write(\"\\n\".join([\"permutation,solution\"] + ans))"
   ]
  },
  {
   "cell_type": "code",
   "execution_count": null,
   "id": "be8557de",
   "metadata": {
    "papermill": {
     "duration": 0.002141,
     "end_time": "2025-07-11T15:17:39.873825",
     "exception": false,
     "start_time": "2025-07-11T15:17:39.871684",
     "status": "completed"
    },
    "tags": []
   },
   "outputs": [],
   "source": []
  }
 ],
 "metadata": {
  "kaggle": {
   "accelerator": "none",
   "dataSources": [
    {
     "databundleVersionId": 11054103,
     "sourceId": 92730,
     "sourceType": "competition"
    }
   ],
   "dockerImageVersionId": 31089,
   "isGpuEnabled": false,
   "isInternetEnabled": true,
   "language": "python",
   "sourceType": "notebook"
  },
  "kernelspec": {
   "display_name": "Python 3",
   "language": "python",
   "name": "python3"
  },
  "language_info": {
   "codemirror_mode": {
    "name": "ipython",
    "version": 3
   },
   "file_extension": ".py",
   "mimetype": "text/x-python",
   "name": "python",
   "nbconvert_exporter": "python",
   "pygments_lexer": "ipython3",
   "version": "3.11.13"
  },
  "papermill": {
   "default_parameters": {},
   "duration": 37.189095,
   "end_time": "2025-07-11T15:17:42.621605",
   "environment_variables": {},
   "exception": null,
   "input_path": "__notebook__.ipynb",
   "output_path": "__notebook__.ipynb",
   "parameters": {},
   "start_time": "2025-07-11T15:17:05.432510",
   "version": "2.6.0"
  }
 },
 "nbformat": 4,
 "nbformat_minor": 5
}
