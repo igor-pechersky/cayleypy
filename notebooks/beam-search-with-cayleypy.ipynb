{
 "cells": [
  {
   "cell_type": "markdown",
   "id": "12014b2e",
   "metadata": {
    "papermill": {
     "duration": 0.002924,
     "end_time": "2025-07-18T15:10:50.555221",
     "exception": false,
     "start_time": "2025-07-18T15:10:50.552297",
     "status": "completed"
    },
    "tags": []
   },
   "source": [
    "# Beam Search with CayleyPy\n",
    "\n",
    "This notebook shows how to use CayleyPy to find path from random permutation to identity permutation in LRX Cayley graph.\n",
    "\n",
    "In other words, it decomkposes arbitrary permutation into composition of just three permutations (shift left, shift right and swap two elements) in some order.\n",
    "\n",
    "The approach is:\n",
    "* Generate random walks using CayleyGraph.random_walks.\n",
    "* Train a neural netork on them to predict distance from arbitrary permutation to identity permutation.\n",
    "* Use CayleyGraph.beam_search using trained neural network as predictor."
   ]
  },
  {
   "cell_type": "code",
   "execution_count": 1,
   "id": "a9c0f644",
   "metadata": {
    "execution": {
     "iopub.execute_input": "2025-07-18T15:10:50.560984Z",
     "iopub.status.busy": "2025-07-18T15:10:50.560638Z",
     "iopub.status.idle": "2025-07-18T15:11:01.085536Z",
     "shell.execute_reply": "2025-07-18T15:11:01.084395Z"
    },
    "papermill": {
     "duration": 10.529625,
     "end_time": "2025-07-18T15:11:01.087254",
     "exception": false,
     "start_time": "2025-07-18T15:10:50.557629",
     "status": "completed"
    },
    "tags": []
   },
   "outputs": [
    {
     "name": "stdout",
     "output_type": "stream",
     "text": [
      "Collecting git+https://github.com/cayleypy/cayleypy\r\n",
      "  Cloning https://github.com/cayleypy/cayleypy to /tmp/pip-req-build-eqk9y54c\r\n",
      "  Running command git clone --filter=blob:none --quiet https://github.com/cayleypy/cayleypy /tmp/pip-req-build-eqk9y54c\r\n",
      "  Resolved https://github.com/cayleypy/cayleypy to commit 2f7f13452f1500584fad7e8f62a0f003a5516ba2\r\n",
      "  Installing build dependencies ... \u001b[?25l\u001b[?25hdone\r\n",
      "  Getting requirements to build wheel ... \u001b[?25l\u001b[?25hdone\r\n",
      "  Preparing metadata (pyproject.toml) ... \u001b[?25l\u001b[?25hdone\r\n",
      "Requirement already satisfied: h5py in /usr/local/lib/python3.11/dist-packages (from cayleypy==0.1.0) (3.13.0)\r\n",
      "Requirement already satisfied: numba in /usr/local/lib/python3.11/dist-packages (from cayleypy==0.1.0) (0.60.0)\r\n",
      "Requirement already satisfied: numpy in /usr/local/lib/python3.11/dist-packages (from cayleypy==0.1.0) (1.26.4)\r\n",
      "Requirement already satisfied: scipy in /usr/local/lib/python3.11/dist-packages (from cayleypy==0.1.0) (1.15.2)\r\n",
      "Requirement already satisfied: mkl_fft in /usr/local/lib/python3.11/dist-packages (from numpy->cayleypy==0.1.0) (1.3.8)\r\n",
      "Requirement already satisfied: mkl_random in /usr/local/lib/python3.11/dist-packages (from numpy->cayleypy==0.1.0) (1.2.4)\r\n",
      "Requirement already satisfied: mkl_umath in /usr/local/lib/python3.11/dist-packages (from numpy->cayleypy==0.1.0) (0.1.1)\r\n",
      "Requirement already satisfied: mkl in /usr/local/lib/python3.11/dist-packages (from numpy->cayleypy==0.1.0) (2025.1.0)\r\n",
      "Requirement already satisfied: tbb4py in /usr/local/lib/python3.11/dist-packages (from numpy->cayleypy==0.1.0) (2022.1.0)\r\n",
      "Requirement already satisfied: mkl-service in /usr/local/lib/python3.11/dist-packages (from numpy->cayleypy==0.1.0) (2.4.1)\r\n",
      "Requirement already satisfied: llvmlite<0.44,>=0.43.0dev0 in /usr/local/lib/python3.11/dist-packages (from numba->cayleypy==0.1.0) (0.43.0)\r\n",
      "Requirement already satisfied: intel-openmp<2026,>=2024 in /usr/local/lib/python3.11/dist-packages (from mkl->numpy->cayleypy==0.1.0) (2024.2.0)\r\n",
      "Requirement already satisfied: tbb==2022.* in /usr/local/lib/python3.11/dist-packages (from mkl->numpy->cayleypy==0.1.0) (2022.1.0)\r\n",
      "Requirement already satisfied: tcmlib==1.* in /usr/local/lib/python3.11/dist-packages (from tbb==2022.*->mkl->numpy->cayleypy==0.1.0) (1.3.0)\r\n",
      "Requirement already satisfied: intel-cmplr-lib-rt in /usr/local/lib/python3.11/dist-packages (from mkl_umath->numpy->cayleypy==0.1.0) (2024.2.0)\r\n",
      "Requirement already satisfied: intel-cmplr-lib-ur==2024.2.0 in /usr/local/lib/python3.11/dist-packages (from intel-openmp<2026,>=2024->mkl->numpy->cayleypy==0.1.0) (2024.2.0)\r\n",
      "Building wheels for collected packages: cayleypy\r\n",
      "  Building wheel for cayleypy (pyproject.toml) ... \u001b[?25l\u001b[?25hdone\r\n",
      "  Created wheel for cayleypy: filename=cayleypy-0.1.0-py3-none-any.whl size=140391 sha256=cca199b82d05a4ce44e9db865485c3e90370f334edc6036818da4eac65880405\r\n",
      "  Stored in directory: /tmp/pip-ephem-wheel-cache-tyeoyh8c/wheels/5d/b5/53/86782f2010b218369465580e31a6c289b7f2a73390b39a23f3\r\n",
      "Successfully built cayleypy\r\n",
      "Installing collected packages: cayleypy\r\n",
      "Successfully installed cayleypy-0.1.0\r\n"
     ]
    }
   ],
   "source": [
    "!pip install git+https://github.com/cayleypy/cayleypy"
   ]
  },
  {
   "cell_type": "code",
   "execution_count": 2,
   "id": "e2c87e5b",
   "metadata": {
    "execution": {
     "iopub.execute_input": "2025-07-18T15:11:01.094116Z",
     "iopub.status.busy": "2025-07-18T15:11:01.093746Z",
     "iopub.status.idle": "2025-07-18T15:11:09.596761Z",
     "shell.execute_reply": "2025-07-18T15:11:09.596033Z"
    },
    "papermill": {
     "duration": 8.508106,
     "end_time": "2025-07-18T15:11:09.598369",
     "exception": false,
     "start_time": "2025-07-18T15:11:01.090263",
     "status": "completed"
    },
    "tags": []
   },
   "outputs": [],
   "source": [
    "from cayleypy import PermutationGroups, CayleyGraph, Predictor, prepare_graph\n",
    "\n",
    "n=12\n",
    "graph=CayleyGraph(PermutationGroups.lrx(n))\n",
    "X, y = graph.random_walks(width=10000, length=n*(n-1)//2, mode=\"bfs\")"
   ]
  },
  {
   "cell_type": "code",
   "execution_count": 3,
   "id": "12058a7f",
   "metadata": {
    "execution": {
     "iopub.execute_input": "2025-07-18T15:11:09.605569Z",
     "iopub.status.busy": "2025-07-18T15:11:09.605159Z",
     "iopub.status.idle": "2025-07-18T15:11:14.537569Z",
     "shell.execute_reply": "2025-07-18T15:11:14.536818Z"
    },
    "papermill": {
     "duration": 4.937442,
     "end_time": "2025-07-18T15:11:14.539068",
     "exception": false,
     "start_time": "2025-07-18T15:11:09.601626",
     "status": "completed"
    },
    "tags": []
   },
   "outputs": [],
   "source": [
    "import torch\n",
    "from torch.utils.data import DataLoader, TensorDataset, random_split\n",
    "\n",
    "\n",
    "# Training parameters.\n",
    "hidden_dims = [256]\n",
    "learning_rate = 0.001\n",
    "\n",
    "\n",
    "class Net(torch.nn.Module):\n",
    "    def __init__(self, input_size, num_classes, hidden_dims):\n",
    "        super().__init__()\n",
    "        self.num_classes=num_classes\n",
    "\n",
    "        input_size = input_size * self.num_classes\n",
    "        layers = []\n",
    "        for hidden_dim in hidden_dims:\n",
    "            layers.append(torch.nn.Linear(input_size, hidden_dim))\n",
    "            layers.append(torch.nn.GELU())\n",
    "            input_size = hidden_dim\n",
    "            \n",
    "        layers.append(torch.nn.Linear(input_size, 1))\n",
    "        self.layers = torch.nn.Sequential(*layers)\n",
    "\n",
    "    def forward(self, x):\n",
    "        x = torch.nn.functional.one_hot(x.long(), num_classes=self.num_classes).float().flatten(start_dim=-2)\n",
    "        return self.layers(x.float()).squeeze(-1)\n",
    "\n",
    "input_size = graph.definition.state_size\n",
    "num_classes = int(max(graph.central_state))+1\n",
    "model = Net(input_size, num_classes, hidden_dims).to(graph.device)\n",
    "\n",
    "# Prepare training and validation datasets.\n",
    "val_ratio = 0.1\n",
    "batch_size = 1024\n",
    "dataset = TensorDataset(X, y.float())\n",
    "val_size = int(len(dataset) * val_ratio)\n",
    "train_size = len(dataset)-val_size\n",
    "train_ds, val_ds = random_split(dataset, [train_size, val_size])\n",
    "train_loader = DataLoader(train_ds, batch_size=1024, shuffle=True)\n",
    "val_loader = DataLoader(val_ds, batch_size=batch_size)\n",
    "\n",
    "loss_fn = torch.nn.MSELoss()\n",
    "optimizer = torch.optim.Adam(model.parameters(), lr=learning_rate)\n",
    "\n",
    "epoch = [0]\n",
    "def train_one_epoch():\n",
    "    model.train()\n",
    "    total_train_loss = 0\n",
    "    for xb, yb in train_loader:\n",
    "        pred = model(xb)\n",
    "        loss = loss_fn(pred, yb)\n",
    "        optimizer.zero_grad()\n",
    "        loss.backward()\n",
    "        optimizer.step()\n",
    "        total_train_loss += loss.item() * xb.size(0)\n",
    "\n",
    "    model.eval()\n",
    "    total_val_loss = 0\n",
    "    with torch.no_grad():\n",
    "        for xb, yb in val_loader:\n",
    "            pred = model(xb)\n",
    "            loss = loss_fn(pred, yb)\n",
    "            total_val_loss += loss.item() * xb.size(0)\n",
    "\n",
    "    avg_train_loss = total_train_loss / train_size\n",
    "    avg_val_loss = total_val_loss / val_size\n",
    "    print(f\"Epoch {epoch[0]} | Train Loss: {avg_train_loss:.4f} | Val Loss: {avg_val_loss:.4f}\")\n",
    "    epoch[0] +=1"
   ]
  },
  {
   "cell_type": "code",
   "execution_count": 4,
   "id": "0cdd4f6f",
   "metadata": {
    "execution": {
     "iopub.execute_input": "2025-07-18T15:11:14.546231Z",
     "iopub.status.busy": "2025-07-18T15:11:14.545823Z",
     "iopub.status.idle": "2025-07-18T15:16:06.169329Z",
     "shell.execute_reply": "2025-07-18T15:16:06.168348Z"
    },
    "papermill": {
     "duration": 291.628489,
     "end_time": "2025-07-18T15:16:06.170841",
     "exception": false,
     "start_time": "2025-07-18T15:11:14.542352",
     "status": "completed"
    },
    "tags": []
   },
   "outputs": [
    {
     "name": "stdout",
     "output_type": "stream",
     "text": [
      "Epoch 0 | Train Loss: 418.8469 | Val Loss: 228.1224\n",
      "Epoch 1 | Train Loss: 151.0241 | Val Loss: 95.8491\n",
      "Epoch 2 | Train Loss: 91.6282 | Val Loss: 90.1976\n",
      "Epoch 3 | Train Loss: 88.5630 | Val Loss: 88.0693\n",
      "Epoch 4 | Train Loss: 86.8782 | Val Loss: 86.7898\n",
      "Epoch 5 | Train Loss: 85.8221 | Val Loss: 85.9725\n",
      "Epoch 6 | Train Loss: 85.0316 | Val Loss: 85.3506\n",
      "Epoch 7 | Train Loss: 84.3466 | Val Loss: 84.8043\n",
      "Epoch 8 | Train Loss: 83.6643 | Val Loss: 84.4429\n",
      "Epoch 9 | Train Loss: 82.9802 | Val Loss: 83.5826\n",
      "Epoch 10 | Train Loss: 82.2451 | Val Loss: 82.9229\n",
      "Epoch 11 | Train Loss: 81.5692 | Val Loss: 82.3900\n",
      "Epoch 12 | Train Loss: 80.8673 | Val Loss: 81.7405\n",
      "Epoch 13 | Train Loss: 80.2314 | Val Loss: 81.2727\n",
      "Epoch 14 | Train Loss: 79.6734 | Val Loss: 80.9361\n",
      "Epoch 15 | Train Loss: 79.1566 | Val Loss: 80.5722\n",
      "Epoch 16 | Train Loss: 78.7009 | Val Loss: 80.2263\n",
      "Epoch 17 | Train Loss: 78.2821 | Val Loss: 79.8792\n",
      "Epoch 18 | Train Loss: 77.8486 | Val Loss: 79.5656\n",
      "Epoch 19 | Train Loss: 77.4402 | Val Loss: 79.3712\n",
      "Epoch 20 | Train Loss: 77.0801 | Val Loss: 79.0998\n",
      "Epoch 21 | Train Loss: 76.6872 | Val Loss: 79.0144\n",
      "Epoch 22 | Train Loss: 76.3367 | Val Loss: 78.4743\n",
      "Epoch 23 | Train Loss: 75.9926 | Val Loss: 78.2792\n",
      "Epoch 24 | Train Loss: 75.6511 | Val Loss: 78.2364\n",
      "Epoch 25 | Train Loss: 75.3822 | Val Loss: 77.9808\n",
      "Epoch 26 | Train Loss: 75.0559 | Val Loss: 77.7939\n",
      "Epoch 27 | Train Loss: 74.7852 | Val Loss: 77.5390\n",
      "Epoch 28 | Train Loss: 74.5116 | Val Loss: 77.3908\n",
      "Epoch 29 | Train Loss: 74.2244 | Val Loss: 77.3048\n",
      "Epoch 30 | Train Loss: 73.9934 | Val Loss: 77.2782\n",
      "Epoch 31 | Train Loss: 73.7576 | Val Loss: 76.8548\n",
      "Epoch 32 | Train Loss: 73.5111 | Val Loss: 76.7830\n",
      "Epoch 33 | Train Loss: 73.2678 | Val Loss: 76.8274\n",
      "Epoch 34 | Train Loss: 73.0929 | Val Loss: 76.4550\n",
      "Epoch 35 | Train Loss: 72.8763 | Val Loss: 76.3507\n",
      "Epoch 36 | Train Loss: 72.6823 | Val Loss: 76.1660\n",
      "Epoch 37 | Train Loss: 72.4797 | Val Loss: 75.9656\n",
      "Epoch 38 | Train Loss: 72.3093 | Val Loss: 75.9181\n",
      "Epoch 39 | Train Loss: 72.1386 | Val Loss: 76.2398\n",
      "Epoch 40 | Train Loss: 71.9477 | Val Loss: 75.8365\n",
      "Epoch 41 | Train Loss: 71.7831 | Val Loss: 75.6898\n",
      "Epoch 42 | Train Loss: 71.6327 | Val Loss: 75.5287\n",
      "Epoch 43 | Train Loss: 71.4544 | Val Loss: 75.5793\n",
      "Epoch 44 | Train Loss: 71.3096 | Val Loss: 75.6359\n",
      "Epoch 45 | Train Loss: 71.1804 | Val Loss: 75.3753\n",
      "Epoch 46 | Train Loss: 71.0093 | Val Loss: 75.2042\n",
      "Epoch 47 | Train Loss: 70.8608 | Val Loss: 75.2691\n",
      "Epoch 48 | Train Loss: 70.7338 | Val Loss: 75.0127\n",
      "Epoch 49 | Train Loss: 70.6173 | Val Loss: 74.9503\n"
     ]
    }
   ],
   "source": [
    "for _ in range(50):\n",
    "    train_one_epoch()"
   ]
  },
  {
   "cell_type": "markdown",
   "id": "ee5b88a0",
   "metadata": {
    "papermill": {
     "duration": 0.004643,
     "end_time": "2025-07-18T15:16:06.180754",
     "exception": false,
     "start_time": "2025-07-18T15:16:06.176111",
     "status": "completed"
    },
    "tags": []
   },
   "source": [
    "### 1. Success rate: neural network vs Hamming\n",
    "\n",
    "Demonstrate that the probability of finding path using neural network as scorer is much higher than when using a simple heursitic such as Hamming distance (in other words, scoring does make a difference).\n",
    "\n",
    "In fact, at beam width $10^6$ we always find the path using the neural network."
   ]
  },
  {
   "cell_type": "code",
   "execution_count": 5,
   "id": "721cf83e",
   "metadata": {
    "execution": {
     "iopub.execute_input": "2025-07-18T15:16:06.192258Z",
     "iopub.status.busy": "2025-07-18T15:16:06.191494Z",
     "iopub.status.idle": "2025-07-18T15:45:07.498666Z",
     "shell.execute_reply": "2025-07-18T15:45:07.497832Z"
    },
    "papermill": {
     "duration": 1741.315053,
     "end_time": "2025-07-18T15:45:07.500624",
     "exception": false,
     "start_time": "2025-07-18T15:16:06.185571",
     "status": "completed"
    },
    "tags": []
   },
   "outputs": [],
   "source": [
    "import numpy as np\n",
    "\n",
    "start_states = [np.random.permutation(n) for _ in range(100)]\n",
    "\n",
    "def measure_success(predictor, beam_width):\n",
    "    success_count = 0\n",
    "    for start_state in start_states:\n",
    "        graph.free_memory()\n",
    "        result = graph.beam_search(start_state=start_state, beam_width=beam_width, max_iterations=n*n, predictor=predictor)\n",
    "        success_count += result.path_found\n",
    "    return success_count/len(start_states)\n",
    "\n",
    "beam_size_range = [1, 10, 10**2, 10**3, 10**4, 10**5, 10**6]\n",
    "hamming_success_rates = []\n",
    "nn_success_rates = []\n",
    "for beam_size in beam_size_range:\n",
    "    hamming_success_rates.append(measure_success(Predictor(graph, \"hamming\"), beam_size))\n",
    "    nn_success_rates.append(measure_success(Predictor(graph, model), beam_size))\n"
   ]
  },
  {
   "cell_type": "code",
   "execution_count": 6,
   "id": "84fe151a",
   "metadata": {
    "execution": {
     "iopub.execute_input": "2025-07-18T15:45:07.512687Z",
     "iopub.status.busy": "2025-07-18T15:45:07.512391Z",
     "iopub.status.idle": "2025-07-18T15:45:08.080038Z",
     "shell.execute_reply": "2025-07-18T15:45:08.079201Z"
    },
    "papermill": {
     "duration": 0.574687,
     "end_time": "2025-07-18T15:45:08.081477",
     "exception": false,
     "start_time": "2025-07-18T15:45:07.506790",
     "status": "completed"
    },
    "tags": []
   },
   "outputs": [
    {
     "data": {
      "image/png": "[encoded data removed]",
      "text/plain": [
       "<Figure size 640x480 with 1 Axes>"
      ]
     },
     "metadata": {},
     "output_type": "display_data"
    }
   ],
   "source": [
    "from matplotlib import pyplot as plt\n",
    "\n",
    "plt.plot(beam_size_range, hamming_success_rates, label=\"Hamming distance\", marker='.')\n",
    "plt.plot(beam_size_range, nn_success_rates, label=\"Neural network\", marker='.')\n",
    "plt.xlabel('Beam size')\n",
    "plt.ylabel('Success rate')\n",
    "plt.legend()\n",
    "plt.xscale('log')\n",
    "plt.title(\"Beam search for LRX(12)\")\n",
    "plt.show()"
   ]
  },
  {
   "cell_type": "markdown",
   "id": "e54225f8",
   "metadata": {
    "papermill": {
     "duration": 0.005996,
     "end_time": "2025-07-18T15:45:08.093225",
     "exception": false,
     "start_time": "2025-07-18T15:45:08.087229",
     "status": "completed"
    },
    "tags": []
   },
   "source": [
    "### 2. Example of path finding."
   ]
  },
  {
   "cell_type": "code",
   "execution_count": 7,
   "id": "ada676ee",
   "metadata": {
    "execution": {
     "iopub.execute_input": "2025-07-18T15:45:08.105017Z",
     "iopub.status.busy": "2025-07-18T15:45:08.104755Z",
     "iopub.status.idle": "2025-07-18T15:45:09.887244Z",
     "shell.execute_reply": "2025-07-18T15:45:09.886269Z"
    },
    "papermill": {
     "duration": 1.789831,
     "end_time": "2025-07-18T15:45:09.888477",
     "exception": false,
     "start_time": "2025-07-18T15:45:08.098646",
     "status": "completed"
    },
    "tags": []
   },
   "outputs": [
    {
     "name": "stdout",
     "output_type": "stream",
     "text": [
      "Start state: [ 7  8  0  1  6  3  5  4  2 10 11  9]\n",
      "BeamSearchResult(path_length=40, path=R.X.R.X.L.X.L.X.R.X.R.R.X.R.R.X.R.X.R.X.R.X.L.X.L.X.L.X.R.X.L.L.L.L.X.L.X.L.L.L)\n"
     ]
    }
   ],
   "source": [
    "start_state = np.random.permutation(n)\n",
    "print(\"Start state:\", start_state)\n",
    "result = graph.beam_search(\n",
    "    start_state=start_state, beam_width=10**6, max_iterations=n*n, predictor=Predictor(graph, model), return_path=True)\n",
    "print(result)"
   ]
  },
  {
   "cell_type": "markdown",
   "id": "d8f667d7",
   "metadata": {
    "papermill": {
     "duration": 0.005141,
     "end_time": "2025-07-18T15:45:09.899263",
     "exception": false,
     "start_time": "2025-07-18T15:45:09.894122",
     "status": "completed"
    },
    "tags": []
   },
   "source": [
    "### 3. Average path length \n",
    "\n",
    "Let's find average length of found path when we start from random permutation."
   ]
  },
  {
   "cell_type": "code",
   "execution_count": 8,
   "id": "a3d3f503",
   "metadata": {
    "execution": {
     "iopub.execute_input": "2025-07-18T15:45:09.911099Z",
     "iopub.status.busy": "2025-07-18T15:45:09.910432Z",
     "iopub.status.idle": "2025-07-18T15:45:40.035460Z",
     "shell.execute_reply": "2025-07-18T15:45:40.034735Z"
    },
    "papermill": {
     "duration": 30.138046,
     "end_time": "2025-07-18T15:45:40.042439",
     "exception": false,
     "start_time": "2025-07-18T15:45:09.904393",
     "status": "completed"
    },
    "tags": []
   },
   "outputs": [
    {
     "name": "stdout",
     "output_type": "stream",
     "text": [
      "Path lengths [34, 48, 50, 47, 36, 32, 34, 45, 47, 30, 49, 50, 46, 43, 32, 45, 44, 51, 43, 49]\n",
      "Average path length 42.75\n"
     ]
    }
   ],
   "source": [
    "path_lengths = []\n",
    "for _ in range(20):\n",
    "    start_state = np.random.permutation(n)\n",
    "    result = graph.beam_search(start_state=start_state, beam_width=10**6, max_iterations=n*n, predictor=Predictor(graph, model))\n",
    "    path_lengths.append(result.path_length)\n",
    "    \n",
    "print(\"Path lengths\", path_lengths)\n",
    "print(\"Average path length\", np.mean(path_lengths))"
   ]
  }
 ],
 "metadata": {
  "kaggle": {
   "accelerator": "gpu",
   "dataSources": [
    {
     "datasetId": 7439288,
     "sourceId": 11840516,
     "sourceType": "datasetVersion"
    }
   ],
   "dockerImageVersionId": 31041,
   "isGpuEnabled": true,
   "isInternetEnabled": true,
   "language": "python",
   "sourceType": "notebook"
  },
  "kernelspec": {
   "display_name": "Python 3",
   "language": "python",
   "name": "python3"
  },
  "language_info": {
   "codemirror_mode": {
    "name": "ipython",
    "version": 3
   },
   "file_extension": ".py",
   "mimetype": "text/x-python",
   "name": "python",
   "nbconvert_exporter": "python",
   "pygments_lexer": "ipython3",
   "version": "3.11.11"
  },
  "papermill": {
   "default_parameters": {},
   "duration": 2097.285466,
   "end_time": "2025-07-18T15:45:43.373134",
   "environment_variables": {},
   "exception": null,
   "input_path": "__notebook__.ipynb",
   "output_path": "__notebook__.ipynb",
   "parameters": {},
   "start_time": "2025-07-18T15:10:46.087668",
   "version": "2.6.0"
  }
 },
 "nbformat": 4,
 "nbformat_minor": 5
}
